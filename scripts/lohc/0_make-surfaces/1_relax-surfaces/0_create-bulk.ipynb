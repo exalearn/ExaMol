{
 "cells": [
  {
   "cell_type": "markdown",
   "id": "a6a0aada-1b9d-4357-beb3-9e512e530e3d",
   "metadata": {},
   "source": [
    "# Relax Bulk with CP2K\n",
    "Use CP2K PBE to relax a certain structure"
   ]
  },
  {
   "cell_type": "code",
   "execution_count": 1,
   "id": "897e19e7-ff11-45dc-b2aa-0a6d51225fc4",
   "metadata": {
    "tags": []
   },
   "outputs": [],
   "source": [
    "from examol.simulate.ase.utils import make_ephemeral_calculator\n",
    "from examol.simulate.ase import ASESimulator\n",
    "from examol.utils.conversions import write_to_string\n",
    "from pathlib import Path\n",
    "from ase.constraints import ExpCellFilter\n",
    "from ase.optimize import BFGS\n",
    "from ase.build import bulk"
   ]
  },
  {
   "cell_type": "markdown",
   "id": "00202102-0409-4e7d-9fba-0136a11c03dd",
   "metadata": {},
   "source": [
    "Configuration"
   ]
  },
  {
   "cell_type": "code",
   "execution_count": 2,
   "id": "5fec8734-89c1-41b8-a37e-b8da0bb8e255",
   "metadata": {
    "tags": []
   },
   "outputs": [],
   "source": [
    "atoms = bulk('Pd')\n",
    "name = 'fcc-Pd'\n",
    "out_dir = Path('relaxed-bulk')"
   ]
  },
  {
   "cell_type": "markdown",
   "id": "a86a6581-75e8-4323-8870-3d7420be0a02",
   "metadata": {},
   "source": [
    "## Make the Bulk Cell\n",
    "Do whatever you need to start with a new cell"
   ]
  },
  {
   "cell_type": "markdown",
   "id": "c1b73933-908e-4563-b063-8b21e1f6e292",
   "metadata": {},
   "source": [
    "## Make the Simulator\n",
    "The tool we'll use to make an ASE calculator"
   ]
  },
  {
   "cell_type": "code",
   "execution_count": 3,
   "id": "bae06c56-23c7-4ad4-a829-b8d5bd60706c",
   "metadata": {
    "tags": []
   },
   "outputs": [],
   "source": [
    "sim = ASESimulator(cp2k_command='/home/lward/Software/cp2k-2023.2/exe/local_cuda/cp2k_shell.ssmp')"
   ]
  },
  {
   "cell_type": "markdown",
   "id": "476ff1bc-f4f7-483a-b768-d2460b97970d",
   "metadata": {},
   "source": [
    "## Run the optimization\n",
    "We'll use ExaMol to make ASE calculators with our target settings."
   ]
  },
  {
   "cell_type": "code",
   "execution_count": 4,
   "id": "d2ad4510-24cd-40bf-ba24-dba1f46cf43c",
   "metadata": {
    "tags": []
   },
   "outputs": [],
   "source": [
    "xyz = write_to_string(atoms, 'extxyz')"
   ]
  },
  {
   "cell_type": "code",
   "execution_count": 5,
   "id": "a0773854-b367-4ed8-9b11-7261535ee991",
   "metadata": {
    "tags": []
   },
   "outputs": [
    {
     "name": "stdout",
     "output_type": "stream",
     "text": [
      "Initial volume: 14.715967249999999. Stress: 0.05\n",
      "      Step     Time          Energy          fmax\n",
      "BFGS:    0 08:52:40    -3469.093567         0.781361\n",
      "BFGS:    1 08:53:02    -3469.099891         0.423853\n",
      "BFGS:    2 08:53:21    -3469.102291         0.013849\n",
      "BFGS:    3 08:53:36    -3469.102293         0.000236\n",
      "Final volume: 14.394562659381776. Stress: 0.00\n"
     ]
    }
   ],
   "source": [
    "with make_ephemeral_calculator(sim.create_configuration('cp2k_pbe_dzvp', xyz, 0, None)) as calc:\n",
    "\n",
    "    # Start by computing the stresses acting on the cell\n",
    "    calc.directory = 'run'\n",
    "    atoms.calc = calc\n",
    "    stresses = atoms.get_stress()\n",
    "    print(f'Initial volume: {atoms.get_volume()}. Stress: {stresses[:3].sum() / 3:.2f}')\n",
    "    \n",
    "    # Run the optimization\n",
    "    opt_atoms = ExpCellFilter(atoms)  # Allow ASE to optimize the lattice parameter\n",
    "    opt = BFGS(opt_atoms)\n",
    "    opt.run(fmax=0.001)\n",
    "    stresses = atoms.get_stress()\n",
    "    print(f'Final volume: {atoms.get_volume()}. Stress: {stresses[:3].sum() / 3:.2f}')"
   ]
  },
  {
   "cell_type": "markdown",
   "id": "2ddeff5a-2d11-4fc0-8e23-e5d9903063d1",
   "metadata": {},
   "source": [
    "Save the relaxed structure"
   ]
  },
  {
   "cell_type": "code",
   "execution_count": 6,
   "id": "a0532f5b-0dcb-4f70-8f82-9d552cbfa284",
   "metadata": {
    "tags": []
   },
   "outputs": [],
   "source": [
    "out_dir.mkdir(exist_ok=True)"
   ]
  },
  {
   "cell_type": "code",
   "execution_count": 7,
   "id": "76b8485d-fcdb-426d-b9f8-d975f6107ccb",
   "metadata": {
    "tags": []
   },
   "outputs": [],
   "source": [
    "with out_dir.joinpath(f'{name}.extxyz').open('w') as fp:\n",
    "    print(write_to_string(atoms, 'extxyz'), file=fp)"
   ]
  },
  {
   "cell_type": "code",
   "execution_count": null,
   "id": "a64c5385-22fc-4007-b504-303a15acd7e2",
   "metadata": {},
   "outputs": [],
   "source": []
  }
 ],
 "metadata": {
  "kernelspec": {
   "display_name": "Python 3 (ipykernel)",
   "language": "python",
   "name": "python3"
  },
  "language_info": {
   "codemirror_mode": {
    "name": "ipython",
    "version": 3
   },
   "file_extension": ".py",
   "mimetype": "text/x-python",
   "name": "python",
   "nbconvert_exporter": "python",
   "pygments_lexer": "ipython3",
   "version": "3.10.13"
  }
 },
 "nbformat": 4,
 "nbformat_minor": 5
}
