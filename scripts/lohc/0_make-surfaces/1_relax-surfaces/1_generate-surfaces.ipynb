{
 "cells": [
  {
   "cell_type": "markdown",
   "id": "fba20aac-3b71-49c7-a1ec-9d441d25e572",
   "metadata": {},
   "source": [
    "# Generate Unrelaxed Surfaces\n",
    "Use [CatKit](https://catkit.readthedocs.io/en/latest/) to produce initial slab structures and enumerate the adsorbate sites."
   ]
  },
  {
   "cell_type": "code",
   "execution_count": 1,
   "id": "07e0242f-77a4-475b-b560-8c94f511afb9",
   "metadata": {
    "tags": []
   },
   "outputs": [],
   "source": [
    "from catkit.gen.adsorption import AdsorptionSites\n",
    "from catkit.gen.surface import SlabGenerator\n",
    "from pathlib import Path\n",
    "from ase.io import read\n",
    "from examol.utils.conversions import read_from_string, write_to_string\n",
    "import json"
   ]
  },
  {
   "cell_type": "markdown",
   "id": "0313ffbe-612c-4902-ad75-7020ec6feed3",
   "metadata": {},
   "source": [
    "Configuration"
   ]
  },
  {
   "cell_type": "code",
   "execution_count": 2,
   "id": "63abefda-dd14-4575-80ec-702831ff7543",
   "metadata": {
    "tags": []
   },
   "outputs": [],
   "source": [
    "bulk_path: str = './relaxed-bulk/fcc-Pd.extxyz'  # Path to a relaxed bulk structure\n",
    "facet: tuple[int, int, int] = (1, 1, 1)  # Which surface to use\n",
    "supercell: tuple[int, int] = (3, 3)  # Size of the supercell\n",
    "layers: int = 6  # Number of layers for the slab"
   ]
  },
  {
   "cell_type": "markdown",
   "id": "a2a1afcf-88ab-4a62-8203-ce310d374070",
   "metadata": {},
   "source": [
    "Derived"
   ]
  },
  {
   "cell_type": "code",
   "execution_count": 3,
   "id": "57b83281-d189-466a-84f7-5d5ec290e093",
   "metadata": {
    "tags": []
   },
   "outputs": [],
   "source": [
    "bulk_path = Path(bulk_path)\n",
    "bulk_name = bulk_path.name.split(\".\")[0]\n",
    "output_name = f'{bulk_name}_{\"\".join(map(str, facet))}_{\"x\".join(map(str, supercell))}'\n",
    "out_dir = Path('surfaces') / output_name\n",
    "out_dir.mkdir(parents=True)"
   ]
  },
  {
   "cell_type": "markdown",
   "id": "bba219d4-a66b-4a3f-ab36-5ac40359d449",
   "metadata": {},
   "source": [
    "## Load in the Structure\n",
    "Into an ase.Atoms object"
   ]
  },
  {
   "cell_type": "code",
   "execution_count": 4,
   "id": "8567b17e-7154-43de-a70e-b12897af635a",
   "metadata": {
    "tags": []
   },
   "outputs": [
    {
     "data": {
      "text/plain": [
       "Atoms(symbols='Pd', pbc=True, cell=[[1.0167062034150769e-07, 1.9307360191576008, 1.9307356679659875], [1.930735554740657, 1.0167063715463548e-07, 1.9307356679659706], [1.9307355547405736, 1.9307360191575014, 1.0167072120474846e-07]], forces=..., calculator=SinglePointCalculator(...))"
      ]
     },
     "execution_count": 4,
     "metadata": {},
     "output_type": "execute_result"
    }
   ],
   "source": [
    "atoms = read(bulk_path)\n",
    "atoms"
   ]
  },
  {
   "cell_type": "markdown",
   "id": "d613bae2-50da-4ab1-a84f-a5b3bb708917",
   "metadata": {},
   "source": [
    "## Make the Surface Generator\n",
    "CatKit uses a [SlabGenerator](https://catkit-jboes.readthedocs.io/en/latest/_static/frontmatter/catgen.html) object to produce surfaces and detect adsorption sites. \n",
    "It takes the desired surface geometry as inputs"
   ]
  },
  {
   "cell_type": "code",
   "execution_count": 5,
   "id": "f9a910ee-b206-4517-afc9-9bee246d1548",
   "metadata": {
    "tags": []
   },
   "outputs": [],
   "source": [
    "gen = SlabGenerator(\n",
    "    atoms,\n",
    "    miller_index=facet,\n",
    "    layers=layers,\n",
    "    fixed=layers // 2,  # Fix the bottom half\n",
    "    layer_type='trim',  # Get the desired number of layers\n",
    "    standardize_bulk=True,\n",
    "    vacuum=10,  # Will expand the vacuum layer\n",
    "    tol=1e-20,\n",
    ")"
   ]
  },
  {
   "cell_type": "markdown",
   "id": "ff092911-3a66-4c86-a2f9-d8176ae140c2",
   "metadata": {},
   "source": [
    "## Save each slab\n",
    "Save the unrelaxed slab and coordinates for the absorption sites"
   ]
  },
  {
   "cell_type": "code",
   "execution_count": 6,
   "id": "b820c114-4dce-4386-bfab-cb020f62df87",
   "metadata": {
    "tags": []
   },
   "outputs": [
    {
     "name": "stdout",
     "output_type": "stream",
     "text": [
      "Found 1 unique terminations\n"
     ]
    }
   ],
   "source": [
    "terminations = gen.get_unique_terminations()\n",
    "print(f'Found {len(terminations)} unique terminations')"
   ]
  },
  {
   "cell_type": "markdown",
   "id": "cdd541b6-c750-4c13-a122-c9a1bc6c0ac2",
   "metadata": {},
   "source": [
    "Iterate over the terminations"
   ]
  },
  {
   "cell_type": "code",
   "execution_count": 7,
   "id": "4da6c9a9-f333-464f-9123-65b1fdf59724",
   "metadata": {
    "tags": []
   },
   "outputs": [],
   "source": [
    "for term in range(len(terminations)):\n",
    "    # Create the slab then detect the adsorption sites\n",
    "    slab = gen.get_slab(size=supercell, iterm=term)\n",
    "    sites = AdsorptionSites(slab)\n",
    "    \n",
    "    # Get both the coordinates and vectors for each sites\n",
    "    coords = sites.get_coordinates()\n",
    "    vectors = sites.get_adsorption_vectors()\n",
    "    conn = sites.get_connectivity()\n",
    "    \n",
    "    # Save the slab and site information\n",
    "    slab_dir = out_dir / f'term={term}'\n",
    "    slab_dir.mkdir()\n",
    "    \n",
    "    slab.write(slab_dir / 'unrelaxed.extxyz', columns=['symbols', 'positions', 'move_mask'])\n",
    "    with slab_dir.joinpath('site-info.json').open('w') as fp:\n",
    "        json.dump({\n",
    "            'coords': coords.tolist(),\n",
    "            'vectors': vectors.tolist(),\n",
    "            'connectivity': conn.tolist(),\n",
    "        }, fp)"
   ]
  },
  {
   "cell_type": "code",
   "execution_count": null,
   "id": "0ef8dbbe-d2cb-4e30-9629-bed38a0d76b9",
   "metadata": {},
   "outputs": [],
   "source": []
  }
 ],
 "metadata": {
  "kernelspec": {
   "display_name": "Python 3 (ipykernel)",
   "language": "python",
   "name": "python3"
  },
  "language_info": {
   "codemirror_mode": {
    "name": "ipython",
    "version": 3
   },
   "file_extension": ".py",
   "mimetype": "text/x-python",
   "name": "python",
   "nbconvert_exporter": "python",
   "pygments_lexer": "ipython3",
   "version": "3.10.13"
  }
 },
 "nbformat": 4,
 "nbformat_minor": 5
}
