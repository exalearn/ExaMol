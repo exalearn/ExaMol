{
 "cells": [
  {
   "cell_type": "markdown",
   "id": "25f2a483-88a2-4638-8965-2d0812137763",
   "metadata": {},
   "source": [
    "# Assemble Surface Records\n",
    "ExaMol specifies the structure of a surface in a format which combines the surface geometry and information about where to place adsorbates.\n",
    "Such data are currently stored in a directory."
   ]
  },
  {
   "cell_type": "code",
   "execution_count": 1,
   "id": "15a03474-b523-48a7-8264-7259eaddb7a9",
   "metadata": {
    "tags": []
   },
   "outputs": [],
   "source": [
    "from examol.store.recipes.surface import SurfaceRecord, SurfaceSite\n",
    "from pathlib import Path\n",
    "from ase.io import read\n",
    "import json"
   ]
  },
  {
   "cell_type": "markdown",
   "id": "2c1b26d6-c64c-4348-ab3f-a489460c48f8",
   "metadata": {},
   "source": [
    "## Make a Conversion Function\n",
    "The directory structure holds the name of the surface, the sites are in a \"site-info.json\" file, and the surface slab is in a extXYZ file."
   ]
  },
  {
   "cell_type": "code",
   "execution_count": 2,
   "id": "d8dc425e-5294-42c3-8536-560a3004d64c",
   "metadata": {
    "tags": []
   },
   "outputs": [],
   "source": [
    "def convert_directory(path: Path) -> SurfaceRecord:\n",
    "    \"\"\"Convert a directory into a SurfaceRecord\n",
    "    \n",
    "    Args:\n",
    "        path: Path to directory being converted\n",
    "    Returns:\n",
    "        Record describing the surface\n",
    "    \"\"\"\n",
    "    \n",
    "    # Start by processing the sites\n",
    "    with open(path / 'site-info.json') as fp:\n",
    "        site_info = json.load(fp)\n",
    "    sites = [\n",
    "        SurfaceSite(\n",
    "            coordinate=coords,\n",
    "            vector=site_info['vectors'][i]\n",
    "        ) for i, coords in enumerate(site_info['coords'])\n",
    "    ]\n",
    "    \n",
    "    # Load in the slab\n",
    "    slab_path = path / 'relaxed.extxyz'\n",
    "    slab = read(slab_path)\n",
    "    slab_xyz = slab_path.read_text()\n",
    "    \n",
    "    # Make the record\n",
    "    name = f'{path.parent.name}_{path.name}'\n",
    "    return SurfaceRecord(\n",
    "        name=name,\n",
    "        slab=slab_xyz,\n",
    "        surface_sites=sites,\n",
    "        energy=slab.get_potential_energy()\n",
    "    )"
   ]
  },
  {
   "cell_type": "markdown",
   "id": "ca527918-9cfa-4ac2-81a5-bc10bb9affec",
   "metadata": {},
   "source": [
    "## Convert all relaxed geometries\n",
    "Find all relaxed geometries and store them"
   ]
  },
  {
   "cell_type": "code",
   "execution_count": 3,
   "id": "9f3d46d5-b741-4816-baa6-0cf780f61f84",
   "metadata": {
    "tags": []
   },
   "outputs": [
    {
     "name": "stdout",
     "output_type": "stream",
     "text": [
      "Found 2 completed surfaces\n"
     ]
    }
   ],
   "source": [
    "record_paths = list(Path('surfaces/').rglob('relaxed.extxyz'))\n",
    "print(f'Found {len(record_paths)} completed surfaces')"
   ]
  },
  {
   "cell_type": "code",
   "execution_count": 4,
   "id": "0e86da13-c72e-4d74-83bd-8985b12f6cb8",
   "metadata": {
    "tags": []
   },
   "outputs": [],
   "source": [
    "records = [convert_directory(p.parent) for p in record_paths]"
   ]
  },
  {
   "cell_type": "markdown",
   "id": "d1534063-7d5e-4d2a-9264-aee536228a9e",
   "metadata": {},
   "source": [
    "Save the records"
   ]
  },
  {
   "cell_type": "code",
   "execution_count": 7,
   "id": "6403e5e0-d728-47af-9ea5-50b96e02354c",
   "metadata": {
    "tags": []
   },
   "outputs": [],
   "source": [
    "record_dir = Path('records')\n",
    "record_dir.mkdir(exist_ok=True)"
   ]
  },
  {
   "cell_type": "code",
   "execution_count": 8,
   "id": "95460110-b018-49ff-89ba-85157d1f4042",
   "metadata": {
    "tags": []
   },
   "outputs": [],
   "source": [
    "for record in records:\n",
    "    with open(record_dir / f'{record.name}.json', 'w') as fp:\n",
    "        print(record.json(indent=2), file=fp)"
   ]
  },
  {
   "cell_type": "code",
   "execution_count": null,
   "id": "66928624-c7f4-48a9-8d80-e385274079f4",
   "metadata": {},
   "outputs": [],
   "source": []
  }
 ],
 "metadata": {
  "kernelspec": {
   "display_name": "Python 3 (ipykernel)",
   "language": "python",
   "name": "python3"
  },
  "language_info": {
   "codemirror_mode": {
    "name": "ipython",
    "version": 3
   },
   "file_extension": ".py",
   "mimetype": "text/x-python",
   "name": "python",
   "nbconvert_exporter": "python",
   "pygments_lexer": "ipython3",
   "version": "3.10.13"
  }
 },
 "nbformat": 4,
 "nbformat_minor": 5
}
