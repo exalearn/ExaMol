{
 "cells": [
  {
   "cell_type": "markdown",
   "id": "4e3b9beb-1014-4848-837e-51651cc56fa3",
   "metadata": {},
   "source": [
    "# Set up Convergence\n",
    "Make a certain surface, place a adsorbate and then run a force computation."
   ]
  },
  {
   "cell_type": "code",
   "execution_count": 1,
   "id": "7a4931a3-2a12-4bfe-97bf-587bca9e23d8",
   "metadata": {
    "tags": []
   },
   "outputs": [],
   "source": [
    "from examol.utils.conversions import write_to_string\n",
    "from ase.build import surface, molecule, add_adsorbate\n",
    "from ase.calculators.cp2k import CP2K\n",
    "from ase.db import connect\n",
    "from ase import units"
   ]
  },
  {
   "cell_type": "markdown",
   "id": "11466f8f-aee8-4f1c-8cc0-a250b4d4ba6a",
   "metadata": {},
   "source": [
    "Configuration"
   ]
  },
  {
   "cell_type": "code",
   "execution_count": 2,
   "id": "9590bdf8-82f1-4ad1-b670-4aa23fb97b62",
   "metadata": {
    "tags": []
   },
   "outputs": [],
   "source": [
    "xc: str = 'PBE'\n",
    "basis_set: str = 'DZVP-MOLOPT-SR-GTH'\n",
    "cutoff: float = 900  # In Ry\n",
    "rel_cutoff: float = 50"
   ]
  },
  {
   "cell_type": "markdown",
   "id": "5bbf79bb-5b68-4adc-ba93-36ad48a0f303",
   "metadata": {},
   "source": [
    "## Make the surface geometry\n",
    "Have a simple, 4-layered Pt (111) slab with a fair amount of vacuum layers and a methane docked up top. For now, let's explore a fully-periodic."
   ]
  },
  {
   "cell_type": "code",
   "execution_count": 3,
   "id": "0fe8a89a-182a-42fd-a798-7524e893a040",
   "metadata": {
    "tags": []
   },
   "outputs": [],
   "source": [
    "s1 = surface('Pt', (1, 1, 1), 4)\n",
    "s1.center(vacuum=12, axis=2)\n",
    "s1 *= [2, 2, 1]\n",
    "s1.pbc = True"
   ]
  },
  {
   "cell_type": "code",
   "execution_count": 4,
   "id": "0d986f1f-f672-47bc-915e-d2a31884c043",
   "metadata": {
    "tags": []
   },
   "outputs": [],
   "source": [
    "mol = molecule('CH4')"
   ]
  },
  {
   "cell_type": "code",
   "execution_count": 5,
   "id": "895ad5fa-66c2-4851-bf6d-77029c9a8c60",
   "metadata": {
    "tags": []
   },
   "outputs": [],
   "source": [
    "add_adsorbate(s1, mol, height=4)"
   ]
  },
  {
   "cell_type": "markdown",
   "id": "5f66c02e-6f41-460d-8bfb-ee53e6f7e53d",
   "metadata": {},
   "source": [
    "## Make the Calculator\n",
    "CP2K with fully periodic boundary conditions and smearing to account for metal ions."
   ]
  },
  {
   "cell_type": "code",
   "execution_count": 6,
   "id": "99c97cd9-6a3a-48a3-95c0-bbe961dbc19d",
   "metadata": {
    "tags": []
   },
   "outputs": [],
   "source": [
    "cp2k_opts = dict(\n",
    "    xc=None,\n",
    "    inp=f\"\"\"\n",
    "&FORCE_EVAL\n",
    "&DFT\n",
    "  &SCF\n",
    "    ADDED_MOS -1  ! Add as many as possible\n",
    "    &SMEAR  ON \n",
    "      METHOD FERMI_DIRAC \n",
    "      ELECTRONIC_TEMPERATURE [K] 300\n",
    "    &END SMEAR \n",
    "    &MIXING\n",
    "      METHOD BROYDEN_MIXING\n",
    "    &END MIXING\n",
    "  &END SCF\n",
    "  &XC\n",
    "     &XC_FUNCTIONAL {xc}\n",
    "     &END XC_FUNCTIONAL\n",
    "  &END XC\n",
    "  &MGRID\n",
    "    NGRIDS 5\n",
    "    REL_CUTOFF {rel_cutoff}\n",
    "  &END MGRID\n",
    "  &POISSON\n",
    "     PERIODIC XYZ\n",
    "     PSOLVER PERIODIC\n",
    "  &END POISSON\n",
    "&END DFT\n",
    "&END FORCE_EVAL\"\"\",\n",
    "    basis_set_file='BASIS_MOLOPT',\n",
    "    basis_set=basis_set,\n",
    "    pseudo_potential=f'GTH-{xc}',\n",
    "    poisson_solver=None,\n",
    ")\n",
    "calc = CP2K(directory='conv',\n",
    "            command='/home/lward/Software/cp2k-2023.2/exe/local_cuda/cp2k_shell.ssmp',\n",
    "            stress_tensor=True,\n",
    "            max_scf=250,\n",
    "            cutoff=cutoff * units.Ry,  # Converts to eV\n",
    "            **cp2k_opts)"
   ]
  },
  {
   "cell_type": "markdown",
   "id": "73f71e7f-0ee1-45d0-aa43-9cb6c85e5ab4",
   "metadata": {},
   "source": [
    "Run to convergence"
   ]
  },
  {
   "cell_type": "code",
   "execution_count": 7,
   "id": "04b81cf2-4a31-4989-8c91-e25a68cf32d8",
   "metadata": {
    "tags": []
   },
   "outputs": [],
   "source": [
    "s1.calc = calc"
   ]
  },
  {
   "cell_type": "code",
   "execution_count": 8,
   "id": "bc352472-1bf7-498e-ab1b-076c49eed5b9",
   "metadata": {
    "tags": []
   },
   "outputs": [],
   "source": [
    "forces = s1.get_forces()"
   ]
  },
  {
   "cell_type": "markdown",
   "id": "38d7a455-d01e-46e7-ab7c-2b04ee105fbd",
   "metadata": {},
   "source": [
    "Save the forces and such"
   ]
  },
  {
   "cell_type": "code",
   "execution_count": 9,
   "id": "24a6b2f3-1c1d-49c9-ba1c-62a37afa3b14",
   "metadata": {
    "tags": []
   },
   "outputs": [],
   "source": [
    "with connect('convergence.db') as db:\n",
    "    db.write(s1, xc=xc, cutoff=cutoff, rel_cutoff=rel_cutoff, basis_set=basis_set)"
   ]
  },
  {
   "cell_type": "markdown",
   "id": "8f4392b7-7c14-4c26-9ad2-113b3f0c342b",
   "metadata": {},
   "source": []
  }
 ],
 "metadata": {
  "kernelspec": {
   "display_name": "Python 3 (ipykernel)",
   "language": "python",
   "name": "python3"
  },
  "language_info": {
   "codemirror_mode": {
    "name": "ipython",
    "version": 3
   },
   "file_extension": ".py",
   "mimetype": "text/x-python",
   "name": "python",
   "nbconvert_exporter": "python",
   "pygments_lexer": "ipython3",
   "version": "3.10.13"
  }
 },
 "nbformat": 4,
 "nbformat_minor": 5
}
