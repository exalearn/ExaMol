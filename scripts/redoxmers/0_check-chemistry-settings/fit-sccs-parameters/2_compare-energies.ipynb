{
 "cells": [
  {
   "cell_type": "markdown",
   "id": "75611324-2ac6-4d6e-a4ae-c7252f527e2e",
   "metadata": {},
   "source": [
    "# Compare Energies\n",
    "Compare the energies to our baseline, determine the optimal set"
   ]
  },
  {
   "cell_type": "code",
   "execution_count": 1,
   "id": "9ab1adca-f5cc-4eaf-83f2-bae60ee2f7de",
   "metadata": {},
   "outputs": [],
   "source": [
    "%matplotlib inline\n",
    "from matplotlib import pyplot as plt\n",
    "import numpy as np\n",
    "from ase.db import connect\n",
    "from ase import units\n",
    "import pandas as pd"
   ]
  },
  {
   "cell_type": "markdown",
   "id": "7cb69cbb-afa2-4eab-8195-b4b646a0e8d8",
   "metadata": {},
   "source": [
    "## Load in the Gaussian PCM Reference Data\n",
    "It's our ground truth"
   ]
  },
  {
   "cell_type": "code",
   "execution_count": 2,
   "id": "9268f725-0d31-41d5-abc4-c37d12262c56",
   "metadata": {},
   "outputs": [],
   "source": [
    "pcm_results = pd.read_csv('reference-data.csv.gz', usecols=['smiles_1', 'sol_acn'])\n",
    "pcm_results = dict(zip(pcm_results['smiles_1'], pcm_results['sol_acn']))"
   ]
  },
  {
   "cell_type": "markdown",
   "id": "5b3c10a4-997d-4a83-a93d-80f892ad0a0e",
   "metadata": {},
   "source": [
    "## Load in the CP2K Data\n",
    "We have both the energy of the molecule in vacuum and in solvents with different parameterizations. The script will need to use them to compute the solvation energy"
   ]
  },
  {
   "cell_type": "code",
   "execution_count": 3,
   "id": "2ebd93a5-72c6-47b2-be8f-614a3920b0bc",
   "metadata": {},
   "outputs": [],
   "source": [
    "with connect('solv-calculations.db') as db:\n",
    "    # Get the energies in vacuum\n",
    "    vac_energy = {}\n",
    "    for row in db.select(solvent='vacuum'):\n",
    "        vac_energy[row.smiles] = row.energy\n",
    "        \n",
    "    # Get everything else\n",
    "    sccs_data = []\n",
    "    for row in db.select(solvent='acn'):\n",
    "        sccs_data.append({\n",
    "            'smiles': row.smiles, \n",
    "            'sol_acn': row.energy - vac_energy[row.smiles],\n",
    "            'sol_acn_pcm': pcm_results[row.smiles],\n",
    "            'alpha': row.alpha,\n",
    "            'beta': row.beta,\n",
    "        })\n",
    "sccs_data = pd.DataFrame(sccs_data)    "
   ]
  },
  {
   "cell_type": "code",
   "execution_count": 4,
   "id": "f02987a5-10a8-436a-8b42-ac2b9880d55c",
   "metadata": {},
   "outputs": [],
   "source": [
    "sccs_data['error'] = (sccs_data['sol_acn'] - sccs_data['sol_acn_pcm']).abs()"
   ]
  },
  {
   "cell_type": "code",
   "execution_count": 5,
   "id": "7c7f00e1-4184-49b2-9ff8-a1e64043c893",
   "metadata": {},
   "outputs": [
    {
     "data": {
      "text/html": [
       "<div>\n",
       "<style scoped>\n",
       "    .dataframe tbody tr th:only-of-type {\n",
       "        vertical-align: middle;\n",
       "    }\n",
       "\n",
       "    .dataframe tbody tr th {\n",
       "        vertical-align: top;\n",
       "    }\n",
       "\n",
       "    .dataframe thead th {\n",
       "        text-align: right;\n",
       "    }\n",
       "</style>\n",
       "<table border=\"1\" class=\"dataframe\">\n",
       "  <thead>\n",
       "    <tr style=\"text-align: right;\">\n",
       "      <th></th>\n",
       "      <th>smiles</th>\n",
       "      <th>sol_acn</th>\n",
       "      <th>sol_acn_pcm</th>\n",
       "      <th>alpha</th>\n",
       "      <th>beta</th>\n",
       "      <th>error</th>\n",
       "    </tr>\n",
       "  </thead>\n",
       "  <tbody>\n",
       "    <tr>\n",
       "      <th>0</th>\n",
       "      <td>[nH]1ncn2cnnc12</td>\n",
       "      <td>-0.649129</td>\n",
       "      <td>-0.848371</td>\n",
       "      <td>-29.45</td>\n",
       "      <td>-0.10</td>\n",
       "      <td>0.199242</td>\n",
       "    </tr>\n",
       "    <tr>\n",
       "      <th>1</th>\n",
       "      <td>[nH]1ncn2cnnc12</td>\n",
       "      <td>-0.649129</td>\n",
       "      <td>-0.848371</td>\n",
       "      <td>-29.45</td>\n",
       "      <td>-0.05</td>\n",
       "      <td>0.199242</td>\n",
       "    </tr>\n",
       "    <tr>\n",
       "      <th>2</th>\n",
       "      <td>[nH]1ncn2cnnc12</td>\n",
       "      <td>-0.649129</td>\n",
       "      <td>-0.848371</td>\n",
       "      <td>-29.45</td>\n",
       "      <td>0.00</td>\n",
       "      <td>0.199242</td>\n",
       "    </tr>\n",
       "    <tr>\n",
       "      <th>3</th>\n",
       "      <td>[nH]1ncn2cnnc12</td>\n",
       "      <td>-0.649129</td>\n",
       "      <td>-0.848371</td>\n",
       "      <td>-29.45</td>\n",
       "      <td>0.05</td>\n",
       "      <td>0.199242</td>\n",
       "    </tr>\n",
       "    <tr>\n",
       "      <th>4</th>\n",
       "      <td>[nH]1ncn2cnnc12</td>\n",
       "      <td>-0.649129</td>\n",
       "      <td>-0.848371</td>\n",
       "      <td>-29.45</td>\n",
       "      <td>0.10</td>\n",
       "      <td>0.199242</td>\n",
       "    </tr>\n",
       "  </tbody>\n",
       "</table>\n",
       "</div>"
      ],
      "text/plain": [
       "            smiles   sol_acn  sol_acn_pcm  alpha  beta     error\n",
       "0  [nH]1ncn2cnnc12 -0.649129    -0.848371 -29.45 -0.10  0.199242\n",
       "1  [nH]1ncn2cnnc12 -0.649129    -0.848371 -29.45 -0.05  0.199242\n",
       "2  [nH]1ncn2cnnc12 -0.649129    -0.848371 -29.45  0.00  0.199242\n",
       "3  [nH]1ncn2cnnc12 -0.649129    -0.848371 -29.45  0.05  0.199242\n",
       "4  [nH]1ncn2cnnc12 -0.649129    -0.848371 -29.45  0.10  0.199242"
      ]
     },
     "execution_count": 5,
     "metadata": {},
     "output_type": "execute_result"
    }
   ],
   "source": [
    "sccs_data.head()"
   ]
  },
  {
   "cell_type": "markdown",
   "id": "9ae60aab-940a-475d-819c-09055b932dc6",
   "metadata": {},
   "source": [
    "## Find the best $\\alpha$ and $\\beta$\n",
    "We want to pick the values which minimize the mean absolute error from the base set"
   ]
  },
  {
   "cell_type": "code",
   "execution_count": 6,
   "id": "784253f3-a2bc-4d2f-b0e7-16bd99fe7309",
   "metadata": {},
   "outputs": [],
   "source": [
    "error_by_param = pd.DataFrame(sccs_data.groupby(['alpha', 'beta'])['error'].mean()).reset_index(level=[0, 1])"
   ]
  },
  {
   "cell_type": "markdown",
   "id": "f85e414a-8f9e-436c-b19c-386fc9f2ef45",
   "metadata": {},
   "source": [
    "Best params are below"
   ]
  },
  {
   "cell_type": "code",
   "execution_count": 7,
   "id": "da22fc71-4771-470a-a8fd-4301192602c7",
   "metadata": {},
   "outputs": [],
   "source": [
    "best_params = error_by_param.loc[error_by_param.error.argmin()]"
   ]
  },
  {
   "cell_type": "markdown",
   "id": "66c86e7b-48ed-47a5-a638-5cc615a6673f",
   "metadata": {},
   "source": [
    "## Plot the best error\n",
    "Plot the enerties with the best error"
   ]
  },
  {
   "cell_type": "code",
   "execution_count": 8,
   "id": "5ac232dc-f0e0-40a6-9122-20e30d07e034",
   "metadata": {},
   "outputs": [
    {
     "name": "stdout",
     "output_type": "stream",
     "text": [
      "Found 32 complete molecules\n"
     ]
    }
   ],
   "source": [
    "best_results = sccs_data[(sccs_data.alpha == best_params['alpha']) & (sccs_data.beta == best_params['beta'])]\n",
    "print(f'Found {len(best_results)} complete molecules')"
   ]
  },
  {
   "cell_type": "code",
   "execution_count": 9,
   "id": "85aed1bb-8c9c-4cf5-90c7-9efd17234caf",
   "metadata": {},
   "outputs": [
    {
     "data": {
      "text/html": [
       "<div>\n",
       "<style scoped>\n",
       "    .dataframe tbody tr th:only-of-type {\n",
       "        vertical-align: middle;\n",
       "    }\n",
       "\n",
       "    .dataframe tbody tr th {\n",
       "        vertical-align: top;\n",
       "    }\n",
       "\n",
       "    .dataframe thead th {\n",
       "        text-align: right;\n",
       "    }\n",
       "</style>\n",
       "<table border=\"1\" class=\"dataframe\">\n",
       "  <thead>\n",
       "    <tr style=\"text-align: right;\">\n",
       "      <th></th>\n",
       "      <th>smiles</th>\n",
       "      <th>sol_acn</th>\n",
       "      <th>sol_acn_pcm</th>\n",
       "      <th>alpha</th>\n",
       "      <th>beta</th>\n",
       "      <th>error</th>\n",
       "    </tr>\n",
       "  </thead>\n",
       "  <tbody>\n",
       "    <tr>\n",
       "      <th>0</th>\n",
       "      <td>[nH]1ncn2cnnc12</td>\n",
       "      <td>-0.649129</td>\n",
       "      <td>-0.848371</td>\n",
       "      <td>-29.45</td>\n",
       "      <td>-0.1</td>\n",
       "      <td>0.199242</td>\n",
       "    </tr>\n",
       "    <tr>\n",
       "      <th>25</th>\n",
       "      <td>O=CC(C#C)(C#C)C#N</td>\n",
       "      <td>-0.417634</td>\n",
       "      <td>-0.313978</td>\n",
       "      <td>-29.45</td>\n",
       "      <td>-0.1</td>\n",
       "      <td>0.103656</td>\n",
       "    </tr>\n",
       "    <tr>\n",
       "      <th>36</th>\n",
       "      <td>FC1=CN[C]([NH])C(=O)N1</td>\n",
       "      <td>-0.552521</td>\n",
       "      <td>-0.504272</td>\n",
       "      <td>-29.45</td>\n",
       "      <td>-0.1</td>\n",
       "      <td>0.048248</td>\n",
       "    </tr>\n",
       "    <tr>\n",
       "      <th>40</th>\n",
       "      <td>COc1connc1=O</td>\n",
       "      <td>-0.474422</td>\n",
       "      <td>-0.299854</td>\n",
       "      <td>-29.45</td>\n",
       "      <td>-0.1</td>\n",
       "      <td>0.174568</td>\n",
       "    </tr>\n",
       "    <tr>\n",
       "      <th>44</th>\n",
       "      <td>O[C@H]1C[C@H]2C[C@@H]12</td>\n",
       "      <td>-0.228328</td>\n",
       "      <td>-0.275245</td>\n",
       "      <td>-29.45</td>\n",
       "      <td>-0.1</td>\n",
       "      <td>0.046917</td>\n",
       "    </tr>\n",
       "  </tbody>\n",
       "</table>\n",
       "</div>"
      ],
      "text/plain": [
       "                     smiles   sol_acn  sol_acn_pcm  alpha  beta     error\n",
       "0           [nH]1ncn2cnnc12 -0.649129    -0.848371 -29.45  -0.1  0.199242\n",
       "25        O=CC(C#C)(C#C)C#N -0.417634    -0.313978 -29.45  -0.1  0.103656\n",
       "36   FC1=CN[C]([NH])C(=O)N1 -0.552521    -0.504272 -29.45  -0.1  0.048248\n",
       "40             COc1connc1=O -0.474422    -0.299854 -29.45  -0.1  0.174568\n",
       "44  O[C@H]1C[C@H]2C[C@@H]12 -0.228328    -0.275245 -29.45  -0.1  0.046917"
      ]
     },
     "execution_count": 9,
     "metadata": {},
     "output_type": "execute_result"
    }
   ],
   "source": [
    "best_results.head()"
   ]
  },
  {
   "cell_type": "code",
   "execution_count": 10,
   "id": "6a1aaf20-ec85-4773-92d0-a98298e213ce",
   "metadata": {},
   "outputs": [
    {
     "data": {
      "image/png": "[encoded data removed]",
      "text/plain": [
       "<Figure size 350x350 with 1 Axes>"
      ]
     },
     "metadata": {},
     "output_type": "display_data"
    }
   ],
   "source": [
    "fig, ax = plt.subplots(figsize=(3.5, 3.5))\n",
    "\n",
    "ax.scatter(\n",
    "    best_results['sol_acn'] * units.mol / units.kcal,\n",
    "    best_results['sol_acn_pcm'] * units.mol / units.kcal,\n",
    "    s=10,\n",
    ")\n",
    "\n",
    "mae = best_results['error'].mean() * units.mol / units.kcal\n",
    "r2 = np.corrcoef(best_results['sol_acn'], best_results['sol_acn_pcm'])[0, 1] ** 2\n",
    "\n",
    "ax.text(-24, -1, f'MAE: {mae:.1f} kcal/mol\\n$R^2$: {r2:.2f}\\n$N$ = {len(best_results)}', va='top')\n",
    "\n",
    "ax.set_xlim(-25, 0)\n",
    "ax.set_ylim(ax.get_xlim())\n",
    "\n",
    "ax.plot(ax.get_xlim(), ax.get_xlim(), 'k--')\n",
    "\n",
    "ax.set_ylabel('$G_{solv}$, G09 (kcal/mol)')\n",
    "ax.set_xlabel('$G_{solv}$, CP2K (kcal/mol)')\n",
    "\n",
    "fig.tight_layout()"
   ]
  },
  {
   "cell_type": "markdown",
   "id": "940f2ccb-4adf-4396-aa95-2c00c0c90f48",
   "metadata": {},
   "source": [
    "Our data agree within ~2 kcal/mol. I don't believe tuning $\\epsilon_0$ or $\\gamma$ will be necessary"
   ]
  },
  {
   "cell_type": "code",
   "execution_count": null,
   "id": "4ff57f45-fd16-426b-b768-bd26f4d9b934",
   "metadata": {},
   "outputs": [],
   "source": []
  }
 ],
 "metadata": {
  "kernelspec": {
   "display_name": "Python 3 (ipykernel)",
   "language": "python",
   "name": "python3"
  },
  "language_info": {
   "codemirror_mode": {
    "name": "ipython",
    "version": 3
   },
   "file_extension": ".py",
   "mimetype": "text/x-python",
   "name": "python",
   "nbconvert_exporter": "python",
   "pygments_lexer": "ipython3",
   "version": "3.10.9"
  }
 },
 "nbformat": 4,
 "nbformat_minor": 5
}
