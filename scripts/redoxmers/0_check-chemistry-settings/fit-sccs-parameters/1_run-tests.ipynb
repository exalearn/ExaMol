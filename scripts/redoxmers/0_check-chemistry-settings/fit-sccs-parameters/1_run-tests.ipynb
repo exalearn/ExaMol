{
 "cells": [
  {
   "cell_type": "markdown",
   "id": "4c9b2450-b69c-4aa7-86d2-95823321c48b",
   "metadata": {},
   "source": [
    "# Run CP2K Tests\n",
    "Run the tests with different parameterizations, save the results to ASE for testing later"
   ]
  },
  {
   "cell_type": "code",
   "execution_count": 1,
   "id": "8d9082e1-78dc-4526-90d7-93d4a9ea1ab6",
   "metadata": {},
   "outputs": [],
   "source": [
    "from examol.simulate.ase import ASESimulator\n",
    "from examol.simulate.ase.utils import read_from_string, buffer_cell, make_ephemeral_calculator\n",
    "from ase.calculators.cp2k import CP2K\n",
    "from ase.db import connect\n",
    "import pandas as pd\n",
    "import numpy as np\n",
    "import json"
   ]
  },
  {
   "cell_type": "code",
   "execution_count": 2,
   "id": "ac523596-a890-4bbc-a0c4-b6a9e3f7899a",
   "metadata": {},
   "outputs": [],
   "source": [
    "db_path = 'solv-calculations.db'\n",
    "config_name = 'cp2k_blyp_dzvp'\n",
    "charge = 0\n",
    "solv_name = 'acn'"
   ]
  },
  {
   "cell_type": "markdown",
   "id": "83437419-ed78-419a-949c-6b635521679d",
   "metadata": {},
   "source": [
    "## Load in Reference Data\n",
    "We are going to use a subset from a Gaussian dataset"
   ]
  },
  {
   "cell_type": "code",
   "execution_count": 3,
   "id": "ee3dddc8-d215-4d95-ae2d-020e4ea067ef",
   "metadata": {},
   "outputs": [],
   "source": [
    "data = pd.read_csv('reference-data.csv.gz')"
   ]
  },
  {
   "cell_type": "code",
   "execution_count": 4,
   "id": "1aab3943-f745-4bbc-880e-5e2c772835b2",
   "metadata": {},
   "outputs": [],
   "source": [
    "data = data.sample(32, random_state=1).sort_values('n_atom')"
   ]
  },
  {
   "cell_type": "markdown",
   "id": "58cdea90-756a-4b4f-a37f-41e34de4b63d",
   "metadata": {},
   "source": [
    "## Get settings without solvents\n",
    "We are going to add some options to it and use them to drive CP2K"
   ]
  },
  {
   "cell_type": "code",
   "execution_count": 5,
   "id": "e45c05bf-23db-4ced-a50a-735d17ecd771",
   "metadata": {},
   "outputs": [],
   "source": [
    "sim = ASESimulator(cp2k_command='/home/lward/Software/cp2k-2022.2/exe/local/cp2k_shell.ssmp')"
   ]
  },
  {
   "cell_type": "code",
   "execution_count": 6,
   "id": "aeb7e0b6-c9a4-481c-b392-145787415c3e",
   "metadata": {},
   "outputs": [
    {
     "name": "stdout",
     "output_type": "stream",
     "text": [
      "&FORCE_EVAL\n",
      "&DFT\n",
      "  &XC\n",
      "     &XC_FUNCTIONAL BLYP\n",
      "     &END XC_FUNCTIONAL\n",
      "  &END XC\n",
      "  &POISSON\n",
      "     PERIODIC NONE\n",
      "     PSOLVER MT\n",
      "  &END POISSON\n",
      "  &SCF\n",
      "    &OUTER_SCF\n",
      "     MAX_SCF 9\n",
      "    &END OUTER_SCF\n",
      "    &OT T\n",
      "      PRECONDITIONER FULL_ALL\n",
      "    &END OT\n",
      "  &END SCF\n",
      "&END DFT\n",
      "&SUBSYS\n",
      "  &TOPOLOGY\n",
      "    &CENTER_COORDINATES\n",
      "    &END\n",
      "  &END\n",
      "&END FORCE_EVAL\n",
      "\n"
     ]
    }
   ],
   "source": [
    "conf = sim.create_configuration(config_name, charge=0, solvent=None)\n",
    "print(conf['kwargs']['inp'])"
   ]
  },
  {
   "cell_type": "markdown",
   "id": "039e1901-51fc-44fc-b657-ed6e04627fb3",
   "metadata": {},
   "source": [
    "We want to introdroduce the SCCS settings into the \"DFT\" block. So, we'll adjust find/replace for convenience"
   ]
  },
  {
   "cell_type": "code",
   "execution_count": 7,
   "id": "dd26746e-0663-4fb2-846f-1f762e72ee80",
   "metadata": {},
   "outputs": [],
   "source": [
    "def insert_sccs(inp: str, e0, gamma, alpha, beta) -> str:\n",
    "    \"\"\"Insert the SCCS settings into our input file\n",
    "    \n",
    "    Args:\n",
    "        inp: The input block to be editted\n",
    "        ..., the 6 different parameter values\n",
    "    Returns:\n",
    "        A new Input block\n",
    "    \"\"\"\n",
    "    \n",
    "    return inp.replace('&END SCF\\n', f\"\"\"&END SCF\n",
    "  &SCCS \n",
    "    ALPHA {alpha}\n",
    "    BETA {beta}\n",
    "    GAMMA {gamma}\n",
    "    RELATIVE_PERMITTIVITY {e0}\n",
    "    DERIVATIVE_METHOD CD3\n",
    "    METHOD ANDREUSSI\n",
    "  &END SCCS\\n\"\"\")"
   ]
  },
  {
   "cell_type": "code",
   "execution_count": 8,
   "id": "b7e17def-a63a-40b1-a046-bcc03f11ee9a",
   "metadata": {},
   "outputs": [
    {
     "name": "stdout",
     "output_type": "stream",
     "text": [
      "&FORCE_EVAL\n",
      "&DFT\n",
      "  &XC\n",
      "     &XC_FUNCTIONAL BLYP\n",
      "     &END XC_FUNCTIONAL\n",
      "  &END XC\n",
      "  &POISSON\n",
      "     PERIODIC NONE\n",
      "     PSOLVER MT\n",
      "  &END POISSON\n",
      "  &SCF\n",
      "    &OUTER_SCF\n",
      "     MAX_SCF 9\n",
      "    &END OUTER_SCF\n",
      "    &OT T\n",
      "      PRECONDITIONER FULL_ALL\n",
      "    &END OT\n",
      "  &END SCF\n",
      "  &SCCS \n",
      "    ALPHA 3\n",
      "    BETA 4\n",
      "    GAMMA 2\n",
      "    RELATIVE_PERMITTIVITY 1\n",
      "    DERIVATIVE_METHOD CD3\n",
      "    METHOD ANDREUSSI\n",
      "  &END SCCS\n",
      "&END DFT\n",
      "&SUBSYS\n",
      "  &TOPOLOGY\n",
      "    &CENTER_COORDINATES\n",
      "    &END\n",
      "  &END\n",
      "&END FORCE_EVAL\n",
      "\n"
     ]
    }
   ],
   "source": [
    "print(insert_sccs(conf['kwargs']['inp'], 1, 2, 3, 4))"
   ]
  },
  {
   "cell_type": "markdown",
   "id": "abb06589-5b97-4548-82f7-cf57ddd073d2",
   "metadata": {},
   "source": [
    "## Define the range of parameters to test\n",
    "Use &epsilon;<sub>0</sub> and &gamma; from experiment, the defaults for &rho;, and start with the &alpha; and &beta; ranges used in [the original paper](https://aip.scitation.org/doi/full/10.1063/1.3676407#_i15)"
   ]
  },
  {
   "cell_type": "code",
   "execution_count": 9,
   "id": "0f0b200d-13e7-4ce9-bd54-2008b4db7573",
   "metadata": {},
   "outputs": [],
   "source": [
    "gamma = 29.4500  # http://www.ddbst.com/en/EED/PCP/SFT_C3.php"
   ]
  },
  {
   "cell_type": "code",
   "execution_count": 10,
   "id": "815a28d6-da27-438b-9e32-fbe8edb14345",
   "metadata": {},
   "outputs": [],
   "source": [
    "e_0 = 37.5  # https://depts.washington.edu/eooptic/linkfiles/dielectric_chart%5B1%5D.pdf"
   ]
  },
  {
   "cell_type": "markdown",
   "id": "0a1a7baf-c0bb-4dcb-a14b-97b7cdea6413",
   "metadata": {},
   "source": [
    "The values of &alpha; are designed such that $\\alpha+\\gamma$ are between 0 - 20 mN/m."
   ]
  },
  {
   "cell_type": "code",
   "execution_count": 11,
   "id": "ea029f69-2f21-449a-b716-de1f3e33a165",
   "metadata": {},
   "outputs": [],
   "source": [
    "alphas = np.linspace(0, 20, 2) - gamma"
   ]
  },
  {
   "cell_type": "markdown",
   "id": "eda81e1f-11b2-41d6-b525-a0cde6664362",
   "metadata": {},
   "source": [
    "Betas should vary between -0.1 and 0.1 GPa"
   ]
  },
  {
   "cell_type": "code",
   "execution_count": 12,
   "id": "9758068d-c29a-412e-a07f-73b58a05175f",
   "metadata": {},
   "outputs": [],
   "source": [
    "betas = np.linspace(-0.10, 0.10, 2)"
   ]
  },
  {
   "cell_type": "markdown",
   "id": "a592f59e-8345-4763-9a08-d94d839c2888",
   "metadata": {},
   "source": [
    "## Loop over molecules\n",
    "We need to compute an energy of the structure in vacuum and in solvent for each parameter. We'll save all those results in a database so we can avoid-recomputing"
   ]
  },
  {
   "cell_type": "code",
   "execution_count": null,
   "id": "f6ad903e-166f-43c6-ad25-4a4ebec0b423",
   "metadata": {},
   "outputs": [],
   "source": [
    "for xyz, smiles in zip(data['xyz'], data['smiles_1']):\n",
    "    # Parse the structure and put a buffer around it\n",
    "    atoms = read_from_string(xyz, 'xyz')\n",
    "    buffer_cell(atoms)\n",
    "    \n",
    "    # Get all of the calculations run with this SMILES string\n",
    "    with connect(db_path) as db:\n",
    "        already_ran = [x.key_value_pairs for x in db.select(smiles=smiles)]\n",
    "    \n",
    "    # Run a calculation in vacuum, if not already done\n",
    "    my_record = {\n",
    "        'config_name': config_name,\n",
    "        'smiles': smiles,\n",
    "        'solvent': 'vacuum',\n",
    "        'charge': charge,\n",
    "    }\n",
    "    if my_record not in already_ran:\n",
    "        with make_ephemeral_calculator(conf) as calc:\n",
    "            atoms.set_calculator(calc)\n",
    "            vac_eng = atoms.get_potential_energy()\n",
    "\n",
    "        # Save it to the database\n",
    "        with connect(db_path) as db:\n",
    "            db.write(atoms, **my_record)\n",
    "            \n",
    "    # Loop over alpha/beta options\n",
    "    my_record['solvent'] = solv_name\n",
    "    for beta in betas:\n",
    "        for alpha in alphas:\n",
    "            my_record['alpha'] = alpha\n",
    "            my_record['beta'] = beta\n",
    "            \n",
    "            # Update the configuration\n",
    "            my_conf = json.loads(json.dumps(conf))\n",
    "            my_conf['kwargs']['inp'] = insert_sccs(\n",
    "                conf['kwargs']['inp'], e_0, gamma, alpha, beta\n",
    "            )\n",
    "                                   \n",
    "            # Run a calculation in vacuum if not already done\n",
    "            if my_record not in already_ran:\n",
    "                with make_ephemeral_calculator(my_conf) as calc:\n",
    "                    atoms.set_calculator(calc)\n",
    "                    atoms.get_potential_energy()\n",
    "\n",
    "                # Save it to the database\n",
    "                with connect(db_path) as db:\n",
    "                    db.write(atoms, **my_record)"
   ]
  },
  {
   "cell_type": "code",
   "execution_count": null,
   "id": "40e4c6f3-3b3e-4561-aa46-0a7deb6ec3cf",
   "metadata": {},
   "outputs": [],
   "source": []
  }
 ],
 "metadata": {
  "kernelspec": {
   "display_name": "Python 3 (ipykernel)",
   "language": "python",
   "name": "python3"
  },
  "language_info": {
   "codemirror_mode": {
    "name": "ipython",
    "version": 3
   },
   "file_extension": ".py",
   "mimetype": "text/x-python",
   "name": "python",
   "nbconvert_exporter": "python",
   "pygments_lexer": "ipython3",
   "version": "3.10.9"
  }
 },
 "nbformat": 4,
 "nbformat_minor": 5
}
