{
 "cells": [
  {
   "cell_type": "markdown",
   "id": "dfff73e6-4556-4da1-8fbd-edec4c2dfe62",
   "metadata": {},
   "source": [
    "# Get fitting data\n",
    "We are going to fit to the solvation energies available in [Ward et al.](https://pubs.acs.org/doi/abs/10.1021/acs.jpca.1c01960), which are available on the Materials Data Facility"
   ]
  },
  {
   "cell_type": "code",
   "execution_count": 1,
   "id": "b170ded9-0297-4d08-8a66-c862a6dfd7ba",
   "metadata": {},
   "outputs": [
    {
     "name": "stderr",
     "output_type": "stream",
     "text": [
      "/home/lward/miniconda3/envs/examol/lib/python3.10/site-packages/tqdm/auto.py:22: TqdmWarning: IProgress not found. Please update jupyter and ipywidgets. See https://ipywidgets.readthedocs.io/en/stable/user_install.html\n",
      "  from .autonotebook import tqdm as notebook_tqdm\n"
     ]
    }
   ],
   "source": [
    "from foundry import Foundry\n",
    "from ase import units \n",
    "import pandas as pd"
   ]
  },
  {
   "cell_type": "markdown",
   "id": "0d9a0ea7-999a-4bee-8e00-408597073384",
   "metadata": {},
   "source": [
    "## Download the dataset\n",
    "The data we want is on Foundry, so we can "
   ]
  },
  {
   "cell_type": "code",
   "execution_count": 2,
   "id": "833e4069-f10e-44a0-8129-29cc9dab7487",
   "metadata": {},
   "outputs": [],
   "source": [
    "client = Foundry()\n",
    "client.load('10.18126/jos5-wj65', globus=False);"
   ]
  },
  {
   "cell_type": "code",
   "execution_count": 3,
   "id": "0fff05ac-61ef-46b8-aab5-9808163b0aae",
   "metadata": {},
   "outputs": [],
   "source": [
    "data = client.load_data()"
   ]
  },
  {
   "cell_type": "markdown",
   "id": "3eae7666-3363-45ba-b231-c0183c3cf164",
   "metadata": {},
   "source": [
    "Combine it into a single dataset"
   ]
  },
  {
   "cell_type": "code",
   "execution_count": 4,
   "id": "0815143f-02a6-4ff0-b433-546ca825b719",
   "metadata": {},
   "outputs": [],
   "source": [
    "data = pd.concat(data['train'], axis=1)"
   ]
  },
  {
   "cell_type": "markdown",
   "id": "0f3de22d-b997-4b71-8ccf-e6b226c2147a",
   "metadata": {},
   "source": [
    "## Convert solvation energies to eV\n",
    "They are in kcal/mol now, and we'll want them in eV to easily compare to CP2K results"
   ]
  },
  {
   "cell_type": "code",
   "execution_count": 5,
   "id": "779a6bc7-8287-4cd1-a8dd-0699ef9f3178",
   "metadata": {},
   "outputs": [],
   "source": [
    "sol_cols = [c for c in data.columns if 'sol' in c]"
   ]
  },
  {
   "cell_type": "code",
   "execution_count": 6,
   "id": "534992d8-ac3d-498d-a281-0013ac248f80",
   "metadata": {},
   "outputs": [],
   "source": [
    "data[sol_cols] *= units.kcal / units.mol  # Converts to eV"
   ]
  },
  {
   "cell_type": "code",
   "execution_count": 7,
   "id": "9876cf47-f1a8-4846-83ef-bc5df03b2fe4",
   "metadata": {},
   "outputs": [
    {
     "data": {
      "text/html": [
       "<div>\n",
       "<style scoped>\n",
       "    .dataframe tbody tr th:only-of-type {\n",
       "        vertical-align: middle;\n",
       "    }\n",
       "\n",
       "    .dataframe tbody tr th {\n",
       "        vertical-align: top;\n",
       "    }\n",
       "\n",
       "    .dataframe thead th {\n",
       "        text-align: right;\n",
       "    }\n",
       "</style>\n",
       "<table border=\"1\" class=\"dataframe\">\n",
       "  <thead>\n",
       "    <tr style=\"text-align: right;\">\n",
       "      <th></th>\n",
       "      <th>sol_acetone</th>\n",
       "      <th>sol_acn</th>\n",
       "      <th>sol_dmso</th>\n",
       "      <th>sol_ethanol</th>\n",
       "      <th>sol_water</th>\n",
       "    </tr>\n",
       "  </thead>\n",
       "  <tbody>\n",
       "    <tr>\n",
       "      <th>count</th>\n",
       "      <td>130258.000000</td>\n",
       "      <td>130258.000000</td>\n",
       "      <td>130258.000000</td>\n",
       "      <td>130258.000000</td>\n",
       "      <td>130258.000000</td>\n",
       "    </tr>\n",
       "    <tr>\n",
       "      <th>mean</th>\n",
       "      <td>-0.383766</td>\n",
       "      <td>-0.372061</td>\n",
       "      <td>-0.321112</td>\n",
       "      <td>-0.388667</td>\n",
       "      <td>-0.324313</td>\n",
       "    </tr>\n",
       "    <tr>\n",
       "      <th>std</th>\n",
       "      <td>0.113302</td>\n",
       "      <td>0.116708</td>\n",
       "      <td>0.125810</td>\n",
       "      <td>0.124607</td>\n",
       "      <td>0.187910</td>\n",
       "    </tr>\n",
       "    <tr>\n",
       "      <th>min</th>\n",
       "      <td>-3.162930</td>\n",
       "      <td>-3.237863</td>\n",
       "      <td>-3.174669</td>\n",
       "      <td>-3.595782</td>\n",
       "      <td>-3.657593</td>\n",
       "    </tr>\n",
       "    <tr>\n",
       "      <th>25%</th>\n",
       "      <td>-0.436546</td>\n",
       "      <td>-0.426281</td>\n",
       "      <td>-0.383330</td>\n",
       "      <td>-0.454199</td>\n",
       "      <td>-0.438054</td>\n",
       "    </tr>\n",
       "    <tr>\n",
       "      <th>50%</th>\n",
       "      <td>-0.372613</td>\n",
       "      <td>-0.360252</td>\n",
       "      <td>-0.309325</td>\n",
       "      <td>-0.380756</td>\n",
       "      <td>-0.316671</td>\n",
       "    </tr>\n",
       "    <tr>\n",
       "      <th>75%</th>\n",
       "      <td>-0.314307</td>\n",
       "      <td>-0.300804</td>\n",
       "      <td>-0.241648</td>\n",
       "      <td>-0.312391</td>\n",
       "      <td>-0.199511</td>\n",
       "    </tr>\n",
       "    <tr>\n",
       "      <th>max</th>\n",
       "      <td>0.132352</td>\n",
       "      <td>0.137165</td>\n",
       "      <td>0.182151</td>\n",
       "      <td>0.159237</td>\n",
       "      <td>0.199236</td>\n",
       "    </tr>\n",
       "  </tbody>\n",
       "</table>\n",
       "</div>"
      ],
      "text/plain": [
       "         sol_acetone        sol_acn       sol_dmso    sol_ethanol  \\\n",
       "count  130258.000000  130258.000000  130258.000000  130258.000000   \n",
       "mean       -0.383766      -0.372061      -0.321112      -0.388667   \n",
       "std         0.113302       0.116708       0.125810       0.124607   \n",
       "min        -3.162930      -3.237863      -3.174669      -3.595782   \n",
       "25%        -0.436546      -0.426281      -0.383330      -0.454199   \n",
       "50%        -0.372613      -0.360252      -0.309325      -0.380756   \n",
       "75%        -0.314307      -0.300804      -0.241648      -0.312391   \n",
       "max         0.132352       0.137165       0.182151       0.159237   \n",
       "\n",
       "           sol_water  \n",
       "count  130258.000000  \n",
       "mean       -0.324313  \n",
       "std         0.187910  \n",
       "min        -3.657593  \n",
       "25%        -0.438054  \n",
       "50%        -0.316671  \n",
       "75%        -0.199511  \n",
       "max         0.199236  "
      ]
     },
     "execution_count": 7,
     "metadata": {},
     "output_type": "execute_result"
    }
   ],
   "source": [
    "data[sol_cols].describe()"
   ]
  },
  {
   "cell_type": "markdown",
   "id": "99da0fa0-219d-4533-adbb-b40b574346c0",
   "metadata": {},
   "source": [
    "## Save to disk\n",
    "So we can use it later"
   ]
  },
  {
   "cell_type": "code",
   "execution_count": 8,
   "id": "8b5a931f-1d57-4097-a3f2-01588598593b",
   "metadata": {},
   "outputs": [],
   "source": [
    "data.to_csv('reference-data.csv.gz', index=False)"
   ]
  }
 ],
 "metadata": {
  "kernelspec": {
   "display_name": "Python 3 (ipykernel)",
   "language": "python",
   "name": "python3"
  },
  "language_info": {
   "codemirror_mode": {
    "name": "ipython",
    "version": 3
   },
   "file_extension": ".py",
   "mimetype": "text/x-python",
   "name": "python",
   "nbconvert_exporter": "python",
   "pygments_lexer": "ipython3",
   "version": "3.10.9"
  }
 },
 "nbformat": 4,
 "nbformat_minor": 5
}
