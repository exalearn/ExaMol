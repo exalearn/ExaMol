{
 "cells": [
  {
   "cell_type": "markdown",
   "id": "8d4e7bcf-887b-4fbf-a40d-1bd18629abf9",
   "metadata": {},
   "source": [
    "# Get a Single Dataset from Benchmarks\n",
    "Get all of the output files from the checks which have been run"
   ]
  },
  {
   "cell_type": "code",
   "execution_count": 1,
   "id": "e034dc31-1a46-4d2a-8bf3-f00781e94df3",
   "metadata": {
    "execution": {
     "iopub.execute_input": "2023-07-02T18:15:13.075762Z",
     "iopub.status.busy": "2023-07-02T18:15:13.075451Z",
     "iopub.status.idle": "2023-07-02T18:15:15.051468Z",
     "shell.execute_reply": "2023-07-02T18:15:15.050086Z"
    }
   },
   "outputs": [],
   "source": [
    "from examol.store.models import MoleculeRecord\n",
    "from examol.store.recipes.redox import RedoxEnergy, SolvationEnergy\n",
    "from base64 import b64decode\n",
    "from pathlib import Path\n",
    "from tqdm import tqdm\n",
    "import pickle as pkl\n",
    "import json"
   ]
  },
  {
   "cell_type": "code",
   "execution_count": 2,
   "id": "c3cbf232-3a61-4d20-b5af-115606600675",
   "metadata": {
    "execution": {
     "iopub.execute_input": "2023-07-02T18:15:15.055914Z",
     "iopub.status.busy": "2023-07-02T18:15:15.055398Z",
     "iopub.status.idle": "2023-07-02T18:15:15.060266Z",
     "shell.execute_reply": "2023-07-02T18:15:15.059405Z"
    }
   },
   "outputs": [],
   "source": [
    "from rdkit import RDLogger\n",
    "RDLogger.DisableLog('rdApp.*') "
   ]
  },
  {
   "cell_type": "markdown",
   "id": "d4435e33-bb9d-4d3f-9ae2-325d567a769d",
   "metadata": {},
   "source": [
    "Configuration"
   ]
  },
  {
   "cell_type": "code",
   "execution_count": 3,
   "id": "1b8c9070-e82d-49df-bbe2-55f9c9dc15aa",
   "metadata": {
    "execution": {
     "iopub.execute_input": "2023-07-02T18:15:15.063847Z",
     "iopub.status.busy": "2023-07-02T18:15:15.063218Z",
     "iopub.status.idle": "2023-07-02T18:15:15.066817Z",
     "shell.execute_reply": "2023-07-02T18:15:15.066148Z"
    }
   },
   "outputs": [],
   "source": [
    "recipes = [\n",
    "    RedoxEnergy(1, 'cp2k_blyp_dzvp', solvent='acn'),\n",
    "    SolvationEnergy('cp2k_blyp_dzvp', solvent='acn')\n",
    "]  # Which recipes we wish to pre-compute"
   ]
  },
  {
   "cell_type": "markdown",
   "id": "888c893e-8252-4bdd-8cef-46d17e22b489",
   "metadata": {},
   "source": [
    "## Make Records from the Computations\n",
    "Loop over all computations we've performed and write them into a summary file"
   ]
  },
  {
   "cell_type": "code",
   "execution_count": 4,
   "id": "fdcd3099-060e-4e02-b094-4ec090ca15e4",
   "metadata": {
    "execution": {
     "iopub.execute_input": "2023-07-02T18:15:15.069724Z",
     "iopub.status.busy": "2023-07-02T18:15:15.069523Z",
     "iopub.status.idle": "2023-07-02T18:15:15.073098Z",
     "shell.execute_reply": "2023-07-02T18:15:15.072381Z"
    }
   },
   "outputs": [],
   "source": [
    "database: dict[str, MoleculeRecord] = {}  # SMILES -> record"
   ]
  },
  {
   "cell_type": "markdown",
   "id": "afe2b6ec-d513-4489-b64e-be531302f708",
   "metadata": {},
   "source": [
    "Start with the optimizations"
   ]
  },
  {
   "cell_type": "code",
   "execution_count": 5,
   "id": "2aa09537-f39e-44c8-ae72-c4624d395d9f",
   "metadata": {
    "execution": {
     "iopub.execute_input": "2023-07-02T18:15:15.076177Z",
     "iopub.status.busy": "2023-07-02T18:15:15.075769Z",
     "iopub.status.idle": "2023-07-02T18:29:05.367697Z",
     "shell.execute_reply": "2023-07-02T18:29:05.366639Z"
    }
   },
   "outputs": [
    {
     "name": "stderr",
     "output_type": "stream",
     "text": [
      "output.json: 30568it [13:50, 36.82it/s]\n"
     ]
    }
   ],
   "source": [
    "for path in Path().rglob('output.json'):\n",
    "    with path.open() as fp:\n",
    "        for line in tqdm(fp, desc=str(path)):\n",
    "            output_record = json.loads(line)\n",
    "\n",
    "            # Create the record\n",
    "            smiles = output_record['smiles']\n",
    "            if smiles in database:\n",
    "                record = database[smiles]\n",
    "            else:\n",
    "                try:\n",
    "                    record = MoleculeRecord.from_identifier(smiles)\n",
    "                except ValueError:\n",
    "                    continue\n",
    "                database[smiles] = record\n",
    "\n",
    "            # Add the simulation results\n",
    "            sim_result, opt_steps, _ = pkl.loads(b64decode(output_record['result']))\n",
    "            record.add_energies(sim_result, opt_steps)"
   ]
  },
  {
   "cell_type": "code",
   "execution_count": 6,
   "id": "727fe4b7-370e-4442-a173-01e2515d7315",
   "metadata": {
    "execution": {
     "iopub.execute_input": "2023-07-02T18:29:05.386498Z",
     "iopub.status.busy": "2023-07-02T18:29:05.386150Z",
     "iopub.status.idle": "2023-07-02T18:29:05.391593Z",
     "shell.execute_reply": "2023-07-02T18:29:05.390733Z"
    }
   },
   "outputs": [
    {
     "name": "stdout",
     "output_type": "stream",
     "text": [
      "Database has 3402 molecules\n"
     ]
    }
   ],
   "source": [
    "print(f'Database has {len(database)} molecules')"
   ]
  },
  {
   "cell_type": "markdown",
   "id": "2dd65a6f-0997-4995-91ab-f650a6d1bf63",
   "metadata": {},
   "source": [
    "Now do the solvation energies"
   ]
  },
  {
   "cell_type": "code",
   "execution_count": 7,
   "id": "f16a4b19-0437-442d-a1af-10c9f4cdc17f",
   "metadata": {
    "execution": {
     "iopub.execute_input": "2023-07-02T18:29:05.395669Z",
     "iopub.status.busy": "2023-07-02T18:29:05.395402Z",
     "iopub.status.idle": "2023-07-02T18:29:46.927153Z",
     "shell.execute_reply": "2023-07-02T18:29:46.926541Z"
    }
   },
   "outputs": [
    {
     "name": "stderr",
     "output_type": "stream",
     "text": [
      "solvation.json: 24538it [00:41, 591.49it/s]\n"
     ]
    }
   ],
   "source": [
    "for path in Path().rglob('solvation.json'):\n",
    "    with path.open() as fp:\n",
    "        for line in tqdm(fp, desc=str(path)):\n",
    "            output_record = json.loads(line)\n",
    "\n",
    "            # Create the record\n",
    "            smiles = output_record['smiles']\n",
    "            if smiles in database:\n",
    "                record = database[smiles]\n",
    "            else:\n",
    "                continue\n",
    "\n",
    "            # Add the simulation results\n",
    "            sim_result, _ = pkl.loads(b64decode(output_record['result']))\n",
    "            record.add_energies(sim_result)"
   ]
  },
  {
   "cell_type": "code",
   "execution_count": 8,
   "id": "7d592d7c-d6f3-45b7-8282-2249ce667f4c",
   "metadata": {
    "execution": {
     "iopub.execute_input": "2023-07-02T18:29:46.930992Z",
     "iopub.status.busy": "2023-07-02T18:29:46.930695Z",
     "iopub.status.idle": "2023-07-02T18:29:46.934675Z",
     "shell.execute_reply": "2023-07-02T18:29:46.934259Z"
    }
   },
   "outputs": [
    {
     "name": "stdout",
     "output_type": "stream",
     "text": [
      "Database has 3402 molecules\n"
     ]
    }
   ],
   "source": [
    "print(f'Database has {len(database)} molecules')"
   ]
  },
  {
   "cell_type": "markdown",
   "id": "5b8914d1-a4a6-4ca0-9caf-93b004f60619",
   "metadata": {},
   "source": [
    "## Compute the recipes\n",
    "We'll use that for our example caseSolvationEnergy"
   ]
  },
  {
   "cell_type": "code",
   "execution_count": 9,
   "id": "00533c7e-fe82-4b0f-aa8a-c5554509a911",
   "metadata": {
    "execution": {
     "iopub.execute_input": "2023-07-02T18:29:46.938876Z",
     "iopub.status.busy": "2023-07-02T18:29:46.938550Z",
     "iopub.status.idle": "2023-07-02T18:29:48.143623Z",
     "shell.execute_reply": "2023-07-02T18:29:48.142677Z"
    }
   },
   "outputs": [
    {
     "name": "stderr",
     "output_type": "stream",
     "text": [
      "oxidation_potential: 100%|██████████████████████████████████████████████████████████████████████████████████████████████████████| 3402/3402 [00:00<00:00, 5460.69it/s]\n"
     ]
    },
    {
     "name": "stdout",
     "output_type": "stream",
     "text": [
      "Computed <examol.store.recipes.RedoxEnergy object at 0x7f2d41f9a650> for 3399 molecules\n"
     ]
    },
    {
     "name": "stderr",
     "output_type": "stream",
     "text": [
      "solvation_energy: 100%|█████████████████████████████████████████████████████████████████████████████████████████████████████████| 3402/3402 [00:00<00:00, 5957.83it/s]"
     ]
    },
    {
     "name": "stdout",
     "output_type": "stream",
     "text": [
      "Computed <examol.store.recipes.SolvationEnergy object at 0x7f2d41f98820> for 3402 molecules\n"
     ]
    },
    {
     "name": "stderr",
     "output_type": "stream",
     "text": [
      "\n"
     ]
    }
   ],
   "source": [
    "for recipe in recipes:\n",
    "    hits = 0\n",
    "    for record in tqdm(database.values(), desc=recipe.name):\n",
    "        try:\n",
    "            recipe.update_record(record)\n",
    "            hits += 1\n",
    "        except ValueError:\n",
    "            continue\n",
    "    print(f'Computed {recipe} for {hits} molecules')"
   ]
  },
  {
   "cell_type": "markdown",
   "id": "23c1ef4a-687c-4009-ad3f-35941273412f",
   "metadata": {},
   "source": [
    "Save it to disk"
   ]
  },
  {
   "cell_type": "code",
   "execution_count": 10,
   "id": "3d4a47dc-8703-46c0-8d49-a6d5b28b3990",
   "metadata": {
    "execution": {
     "iopub.execute_input": "2023-07-02T18:29:48.148356Z",
     "iopub.status.busy": "2023-07-02T18:29:48.148062Z",
     "iopub.status.idle": "2023-07-02T18:29:51.381306Z",
     "shell.execute_reply": "2023-07-02T18:29:51.380796Z"
    }
   },
   "outputs": [
    {
     "name": "stderr",
     "output_type": "stream",
     "text": [
      "100%|███████████████████████████████████████████████████████████████████████████████████████████████████████████████████████████| 3402/3402 [00:03<00:00, 1055.02it/s]\n"
     ]
    }
   ],
   "source": [
    "with open('database.json', 'w') as fp:\n",
    "    for record in tqdm(database.values()):\n",
    "        print(record.json(), file=fp)"
   ]
  },
  {
   "cell_type": "code",
   "execution_count": null,
   "id": "f860d979-6c94-4d8f-bb78-ef9a12948bb9",
   "metadata": {},
   "outputs": [],
   "source": []
  }
 ],
 "metadata": {
  "kernelspec": {
   "display_name": "Python 3 (ipykernel)",
   "language": "python",
   "name": "python3"
  },
  "language_info": {
   "codemirror_mode": {
    "name": "ipython",
    "version": 3
   },
   "file_extension": ".py",
   "mimetype": "text/x-python",
   "name": "python",
   "nbconvert_exporter": "python",
   "pygments_lexer": "ipython3",
   "version": "3.10.10"
  }
 },
 "nbformat": 4,
 "nbformat_minor": 5
}
