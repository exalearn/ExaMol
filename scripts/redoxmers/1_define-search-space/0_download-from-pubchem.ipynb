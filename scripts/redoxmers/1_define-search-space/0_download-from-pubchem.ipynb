{
 "cells": [
  {
   "cell_type": "markdown",
   "id": "6ca06347-094e-49e5-806d-f1bef0492a7e",
   "metadata": {},
   "source": [
    "# Download the PubChem IDs, Filter Them\n",
    "Get the SMILES strings from PubChem and then filter down based on certain criteria"
   ]
  },
  {
   "cell_type": "code",
   "execution_count": 1,
   "id": "65d4ae23-ef8a-4207-8a80-76f2af220137",
   "metadata": {},
   "outputs": [],
   "source": [
    "from tempfile import TemporaryDirectory\n",
    "from multiprocessing.pool import Pool\n",
    "from more_itertools import batched, peekable\n",
    "from functools import partial\n",
    "from shutil import copyfileobj\n",
    "from rdkit.Chem import Descriptors\n",
    "from rdkit import RDLogger, Chem\n",
    "from pathlib import Path\n",
    "from tqdm import tqdm\n",
    "import requests\n",
    "import gzip\n",
    "import yaml\n",
    "import os"
   ]
  },
  {
   "cell_type": "markdown",
   "id": "ee971e25-7cdf-4d7c-b125-e77f0a6eb31a",
   "metadata": {},
   "source": [
    "Configuration"
   ]
  },
  {
   "cell_type": "code",
   "execution_count": 2,
   "id": "b6b510fb-4a40-42e8-82a1-1ac6741a6558",
   "metadata": {},
   "outputs": [],
   "source": [
    "batch_size = 1000\n",
    "max_molwt = 300\n",
    "criteria_path = 'criteria/criteria-v3.1.yml'"
   ]
  },
  {
   "cell_type": "markdown",
   "id": "c0fc60d7-7395-4d62-a181-8427dfdbd1a2",
   "metadata": {},
   "source": [
    "Surpress complaints from RDKit"
   ]
  },
  {
   "cell_type": "code",
   "execution_count": 3,
   "id": "cfb8926f-6d94-4fd3-9d8d-b61dcdb0f013",
   "metadata": {},
   "outputs": [],
   "source": [
    "lg = RDLogger.logger()\n",
    "lg.setLevel(RDLogger.CRITICAL)"
   ]
  },
  {
   "cell_type": "markdown",
   "id": "6e4d39fd-4fe6-4e71-b6e3-07a1930fe968",
   "metadata": {},
   "source": [
    "## Screening Function\n",
    "Something to remove undesired molecules"
   ]
  },
  {
   "cell_type": "code",
   "execution_count": 4,
   "id": "f997b62e-30bd-4e6f-9571-3947cf27ab4c",
   "metadata": {},
   "outputs": [],
   "source": [
    "def screen_molecules(\n",
    "    to_screen: list[str],\n",
    "    max_molecular_weight: float,\n",
    "    forbidden_smarts: list[str],\n",
    "    required_smarts: list[str],\n",
    "    allowed_elements: list[str],\n",
    "    min_conjugation: int,\n",
    "    allow_disconnected: bool,\n",
    ") -> list[str]:\n",
    "    \"\"\"Screen molecules that pass molecular weights and substructure filters\n",
    "\n",
    "    Args:\n",
    "        to_screen: List of SMILES strings to string\n",
    "        max_molecular_weight: Maximum molecular weight (g/mol)\n",
    "        forbidden_smarts: List of SMARTS that cannot appear in a molecule\n",
    "        required_smarts: List of SMARTS that must appear in the molecule\n",
    "        allowed_elements: List of allowed elements\n",
    "        allow_disconnected: Whether to allow non-bonded connections\n",
    "    Returns: \n",
    "        List of SMILES strings which pass\n",
    "    \"\"\"\n",
    "    # Pre-parse the SMARTS strings\n",
    "    forbidden_smarts = [Chem.MolFromSmarts(s) for s in forbidden_smarts]\n",
    "    required_smarts = [Chem.MolFromSmarts(s) for s in required_smarts]\n",
    "\n",
    "    passed = []\n",
    "    \n",
    "    # Function for counting conjugation\n",
    "    def count_conj(mol):\n",
    "        \"\"\"Count the number of conjugated bonds in a molecule\n",
    "\n",
    "        Assumes they are all part of the same group\n",
    "\n",
    "        Args:\n",
    "            mol: Molecule to evaluate\n",
    "        Returns:\n",
    "            Number of conjugated bonds\n",
    "        \"\"\"\n",
    "\n",
    "        # Check if any are conjugated\n",
    "        is_conj = [bond.GetIsConjugated() for bond in mol.GetBonds()]\n",
    "\n",
    "        # If any are conjugated, count the number of multiple bonds\n",
    "        if any(is_conj):\n",
    "            kekul_mol = Chem.Kekulize(mol, True)\n",
    "            return sum(i and bond.GetBondTypeAsDouble() >= 2 for i, bond in zip(is_conj, mol.GetBonds()))\n",
    "        else:\n",
    "            return 0\n",
    "\n",
    "    for smiles in to_screen:\n",
    "        # Check first if it has a non-bond\n",
    "        if '.' in smiles and not allow_disconnected:\n",
    "            continue\n",
    "        \n",
    "        mol = Chem.MolFromSmiles(smiles)\n",
    "\n",
    "        # Skip if molecule does not parse\n",
    "        if mol is None:\n",
    "            continue\n",
    "\n",
    "        # Skip if molecular weight is above a threshold\n",
    "        mol_wt = Descriptors.MolWt(mol)\n",
    "        if mol_wt > max_molecular_weight:\n",
    "            continue\n",
    "\n",
    "        # Skip if it contains a disallowed elements\n",
    "        if any(atom.GetSymbol() not in allowed_elements for atom in mol.GetAtoms()):\n",
    "                continue\n",
    "        \n",
    "        # Skip if it contains a disallowed group\n",
    "        try:\n",
    "            if any(mol.HasSubstructMatch(s) for s in forbidden_smarts):\n",
    "                continue\n",
    "        except:\n",
    "            continue\n",
    "        \n",
    "        # Skip if it does not contain all of the allowed groups\n",
    "        try:\n",
    "            if not all(mol.HasSubstructMatch(s) for s in required_smarts):\n",
    "                continue\n",
    "        except:\n",
    "            continue\n",
    "            \n",
    "        # Skip if does not have enough conjugated bonds\n",
    "        n_conj = count_conj(mol)\n",
    "        if n_conj < min_conjugation:\n",
    "            continue\n",
    "            \n",
    "        # Add it to the output\n",
    "        passed.append(smiles)\n",
    "\n",
    "    return passed"
   ]
  },
  {
   "cell_type": "markdown",
   "id": "3af9c3e3-e2f5-4089-9bca-7ca38fa50b94",
   "metadata": {},
   "source": [
    "Load our criteria"
   ]
  },
  {
   "cell_type": "code",
   "execution_count": 5,
   "id": "4403c363-f69d-4d7a-abef-0c7430aedc9a",
   "metadata": {},
   "outputs": [
    {
     "data": {
      "text/plain": [
       "{'allowed_elements': ['C', 'H', 'O', 'N', 'F', 'S', 'P', 'Cl', 'Br'],\n",
       " 'forbidden_smarts': ['[CX3](=O)[OX1H0-,OX2H1]',\n",
       "  '[CX3](=O)[OX2H1]',\n",
       "  '[#6][#6][OX2H]',\n",
       "  '[CX3](=[OX1])N=[CX3](=[OX1])',\n",
       "  'O[CX4][F,Cl,Br,I]'],\n",
       " 'required_smarts': ['a'],\n",
       " 'min_conjugation': 3,\n",
       " 'allow_disconnected': False}"
      ]
     },
     "execution_count": 5,
     "metadata": {},
     "output_type": "execute_result"
    }
   ],
   "source": [
    "with open(criteria_path) as fp:\n",
    "    criteria = yaml.safe_load(fp)\n",
    "criteria"
   ]
  },
  {
   "cell_type": "markdown",
   "id": "0257dd31-0c07-414a-863b-36f9b09e62d2",
   "metadata": {},
   "source": [
    "Pin them to the function"
   ]
  },
  {
   "cell_type": "code",
   "execution_count": 6,
   "id": "22eb48a8-7782-4ea5-bd58-5eba1a3c30b7",
   "metadata": {},
   "outputs": [],
   "source": [
    "screen_fun = partial(screen_molecules, max_molecular_weight=max_molwt, **criteria)"
   ]
  },
  {
   "cell_type": "markdown",
   "id": "191b61ab-9e78-41ad-a454-0e5eadb27148",
   "metadata": {},
   "source": [
    "## Make functions to iterate from PubChem Data Files\n",
    "PubChem supplies a mapping of their \"Compound ID\" to a SMILES string and synonyms as separate files. \n",
    "\n",
    "The Data Files are hosted on an [FTP server](https://ftp.ncbi.nlm.nih.gov/pubchem/Compound/Extras/) We can access them via HTTP requests."
   ]
  },
  {
   "cell_type": "code",
   "execution_count": 7,
   "id": "2c5c400e-2791-4de3-a61a-58aec4fc1193",
   "metadata": {},
   "outputs": [],
   "source": [
    "def get_smiles_strings() -> str:\n",
    "    \"\"\"Iterate over all of the SMILES strings in PubChem\n",
    "    \n",
    "    Yields:\n",
    "        SMILES string of a molecule\n",
    "    \"\"\"\n",
    "    with TemporaryDirectory(prefix='smiles') as tmp:\n",
    "        file_path = Path(tmp) / 'smiles.gz'\n",
    "        with requests.get('https://ftp.ncbi.nlm.nih.gov/pubchem/Compound/Extras/CID-SMILES.gz', stream=True) as req, file_path.open('wb') as fo:\n",
    "            copyfileobj(req.raw, fo)\n",
    "    \n",
    "        with gzip.open(file_path, 'rt') as fp:\n",
    "            for line in fp:\n",
    "                id_str, smiles = line[:-1].split(\"\\t\")\n",
    "                yield smiles\n",
    "smiles_iter = peekable(get_smiles_strings())\n",
    "assert smiles_iter.peek() == 'CC(=O)OC(CC(=O)[O-])C[N+](C)(C)C'"
   ]
  },
  {
   "cell_type": "markdown",
   "id": "a2b67ee4-cd5e-44d3-a2f2-49a0a760698f",
   "metadata": {},
   "source": [
    "Make sure we can screen"
   ]
  },
  {
   "cell_type": "code",
   "execution_count": 8,
   "id": "9e09fa93-7790-49c1-83f9-659aa36fc385",
   "metadata": {},
   "outputs": [
    {
     "data": {
      "text/plain": [
       "[]"
      ]
     },
     "execution_count": 8,
     "metadata": {},
     "output_type": "execute_result"
    }
   ],
   "source": [
    "screen_fun([smiles_iter.peek()])"
   ]
  },
  {
   "cell_type": "markdown",
   "id": "43402f76-30f5-4c9b-9edd-002ec1c5a473",
   "metadata": {},
   "source": [
    "## Filter PubChem\n",
    "Downselect in parallel"
   ]
  },
  {
   "cell_type": "code",
   "execution_count": 9,
   "id": "09f1d1fc-fc73-47f4-bdcb-47a6a19f79be",
   "metadata": {},
   "outputs": [
    {
     "name": "stdout",
     "output_type": "stream",
     "text": [
      "Writing to: output/pubchem-criteria-v3.1-molwt=300.smi\n"
     ]
    }
   ],
   "source": [
    "output_path = Path('output') / f'pubchem-{Path(criteria_path).name[:-4]}-molwt={max_molwt}.smi'\n",
    "print(f'Writing to: {output_path}')"
   ]
  },
  {
   "cell_type": "code",
   "execution_count": null,
   "id": "1763102e-eab8-42e0-ad5e-ec112a040513",
   "metadata": {},
   "outputs": [
    {
     "name": "stderr",
     "output_type": "stream",
     "text": [
      "16736370it [1:28:13, 1633.94it/s] "
     ]
    }
   ],
   "source": [
    "pbar = tqdm()\n",
    "with Pool(min(os.cpu_count(), 8)) as pool, output_path.open('w') as fp:\n",
    "    for smiles_batch in pool.imap_unordered(screen_fun, batched(smiles_iter, batch_size)):\n",
    "        for smiles in smiles_batch:\n",
    "            print(smiles.strip(), file=fp)\n",
    "            pbar.update(1)"
   ]
  },
  {
   "cell_type": "code",
   "execution_count": null,
   "id": "2c326ae9-92ed-4935-ab8d-9c3bcb1b6ae6",
   "metadata": {},
   "outputs": [],
   "source": []
  }
 ],
 "metadata": {
  "kernelspec": {
   "display_name": "Python 3 (ipykernel)",
   "language": "python",
   "name": "python3"
  },
  "language_info": {
   "codemirror_mode": {
    "name": "ipython",
    "version": 3
   },
   "file_extension": ".py",
   "mimetype": "text/x-python",
   "name": "python",
   "nbconvert_exporter": "python",
   "pygments_lexer": "ipython3",
   "version": "3.10.12"
  }
 },
 "nbformat": 4,
 "nbformat_minor": 5
}
