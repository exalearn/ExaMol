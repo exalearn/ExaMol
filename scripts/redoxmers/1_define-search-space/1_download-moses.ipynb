{
 "cells": [
  {
   "cell_type": "markdown",
   "id": "ca350f65-0242-4fe0-b593-840a261d8843",
   "metadata": {},
   "source": [
    "# Get Datasets Stored on the MDF\n",
    "Pull the datasets used in our [previous molecular design tests](https://github.com/exalearn/multi-site-campaigns), which we have published on the Materials Data Facility.\n",
    "They are smaller in scale (MOSES ~ 1M, QM9 ~0.1M) which will make for easier tests of the system."
   ]
  },
  {
   "cell_type": "code",
   "execution_count": 1,
   "id": "19c566e4-0dc5-4fd1-8476-f732189794f3",
   "metadata": {
    "tags": []
   },
   "outputs": [],
   "source": [
    "from tempfile import TemporaryDirectory\n",
    "from shutil import copyfileobj\n",
    "from typing import Iterator\n",
    "from pathlib import Path\n",
    "import requests"
   ]
  },
  {
   "cell_type": "markdown",
   "id": "ec352120-31d5-4d4a-b319-db4d34c519d4",
   "metadata": {},
   "source": [
    "Configuration"
   ]
  },
  {
   "cell_type": "code",
   "execution_count": 2,
   "id": "beaf6fc6-6b3e-4738-bca2-5b6d4a01731a",
   "metadata": {},
   "outputs": [],
   "source": [
    "base_url = 'https://data.materialsdatafacility.org/mdf_open/multiresource_ai_v2.1/multisite/data/moldesign/search-space'\n",
    "dataset_names = ['QM9', 'MOS']"
   ]
  },
  {
   "cell_type": "markdown",
   "id": "55a4d2bf-29eb-455b-9cb1-bba2e5c220c9",
   "metadata": {},
   "source": [
    "## Make the Functions\n",
    "A function to interate over the SMILES strings in the dataset"
   ]
  },
  {
   "cell_type": "code",
   "execution_count": 3,
   "id": "1d61bb29-0a06-49fb-8644-9818b3cc4d30",
   "metadata": {
    "tags": []
   },
   "outputs": [],
   "source": [
    "def get_smiles_strings(name: str) -> Iterator[str]:\n",
    "    \"\"\"Iterate over all of the SMILES strings in PubChem\n",
    "    \n",
    "    Args:\n",
    "        name: Name of the dataset\n",
    "    Yields:\n",
    "        SMILES string of a molecule\n",
    "    \"\"\"\n",
    "    with TemporaryDirectory(prefix='smiles') as tmp:\n",
    "        file_path = Path(tmp) / 'space.csv'\n",
    "        with requests.get(f'{base_url}/{name}-search.csv', stream=True) as req, file_path.open('wb') as fo:\n",
    "            copyfileobj(req.raw, fo)\n",
    "    \n",
    "        with open(file_path, 'rt') as fp:\n",
    "            header = fp.readline()  # Header\n",
    "            assert header.startswith('smiles,')\n",
    "            for line in fp:\n",
    "                smiles = line.split(\",\")[0]\n",
    "                yield smiles"
   ]
  },
  {
   "cell_type": "markdown",
   "id": "123b17ac-5889-401f-89ab-2130cc3cb1b0",
   "metadata": {},
   "source": [
    "## Download the Data\n",
    "Store all of the datasets we want from the MDF"
   ]
  },
  {
   "cell_type": "code",
   "execution_count": 4,
   "id": "d5a60c56-7439-4f58-a765-d57d06c2bfe4",
   "metadata": {
    "tags": []
   },
   "outputs": [],
   "source": [
    "for name in dataset_names:\n",
    "    with open(f'output/mdf-{name.lower()}.smi', 'w') as fp:\n",
    "        for smiles in get_smiles_strings(name):\n",
    "            print(smiles.strip(), file=fp)"
   ]
  },
  {
   "cell_type": "code",
   "execution_count": null,
   "id": "28b12129-3e0a-4382-8653-13b7cbf93fd1",
   "metadata": {},
   "outputs": [],
   "source": []
  }
 ],
 "metadata": {
  "kernelspec": {
   "display_name": "Python 3 (ipykernel)",
   "language": "python",
   "name": "python3"
  },
  "language_info": {
   "codemirror_mode": {
    "name": "ipython",
    "version": 3
   },
   "file_extension": ".py",
   "mimetype": "text/x-python",
   "name": "python",
   "nbconvert_exporter": "python",
   "pygments_lexer": "ipython3",
   "version": "3.10.12"
  }
 },
 "nbformat": 4,
 "nbformat_minor": 5
}
