{
 "cells": [
  {
   "cell_type": "markdown",
   "id": "c208962c-8132-4962-8995-d660d113ad96",
   "metadata": {},
   "source": [
    "# Evalaute Datasets\n",
    "Count how much data we have from each source, estimate runtimes"
   ]
  },
  {
   "cell_type": "code",
   "execution_count": 1,
   "id": "567928e0-7a2b-48a8-b5d8-3d830ee6ba8e",
   "metadata": {},
   "outputs": [],
   "source": [
    "%matplotlib inline\n",
    "from matplotlib import pyplot as plt\n",
    "from collections import defaultdict\n",
    "from tqdm import tqdm\n",
    "import pandas as pd\n",
    "import numpy as np\n",
    "import json\n",
    "import gzip"
   ]
  },
  {
   "cell_type": "markdown",
   "id": "228eb755-f134-4b25-814c-67df90a84ff7",
   "metadata": {},
   "source": [
    "Configuration"
   ]
  },
  {
   "cell_type": "code",
   "execution_count": 2,
   "id": "94849080-3074-43c5-bc1e-89d37b354557",
   "metadata": {},
   "outputs": [],
   "source": [
    "to_read = ['mdf-mos']  # Names of the molecule data sources\n",
    "config_names = ['xtb', 'mopac_pm7']  # Approaches, ordered by increasing runtime\n",
    "approx_names = ['vertical', 'acn_vertical', 'adiabatic', 'acn_adiabatic']  # Approximations for redox potential, increasing by runtime"
   ]
  },
  {
   "cell_type": "markdown",
   "id": "9d37959c-0492-4ca2-b348-784ae130136e",
   "metadata": {},
   "source": [
    "## Load in the datasets\n",
    "Load in the dataset and the time estimates for each step"
   ]
  },
  {
   "cell_type": "code",
   "execution_count": 3,
   "id": "c68a0216-cb12-4030-b210-5cabe30cee5f",
   "metadata": {},
   "outputs": [],
   "source": [
    "records = {}"
   ]
  },
  {
   "cell_type": "markdown",
   "id": "89aed961-fd49-412e-b0b9-6ae1f3e42a9e",
   "metadata": {},
   "source": [
    "Start by loading molecule records with the proeprties and identity"
   ]
  },
  {
   "cell_type": "code",
   "execution_count": 4,
   "id": "b2e22d0b-81da-447f-85d2-d33fa93f7e15",
   "metadata": {},
   "outputs": [
    {
     "name": "stderr",
     "output_type": "stream",
     "text": [
      "mdf-mos: 1115110it [00:35, 31754.38it/s]\n"
     ]
    }
   ],
   "source": [
    "properties = set()\n",
    "recipes = set()\n",
    "for source in to_read:\n",
    "    with open(f'datasets/{source}.json') as fp:\n",
    "        for line in tqdm(fp, desc=source):\n",
    "            data = json.loads(line)\n",
    "            \n",
    "            # Skip if there are no conformers, \n",
    "            #  which means no computations succeeded\n",
    "            if len(data['conformers']) == 0:\n",
    "                continue\n",
    "            \n",
    "            # Start by storing the identity and source\n",
    "            record = defaultdict(float)\n",
    "            record.update({\n",
    "                'key': data['_id'],\n",
    "                'source': source,\n",
    "                'smiles': data['identifier']['smiles'],\n",
    "                'n_atoms': int(data['conformers'][0]['xyz'].split(\"\\n\")[0])\n",
    "            })\n",
    "            \n",
    "            # Store the properties\n",
    "            for prop, values in data['properties'].items():\n",
    "                properties.add(prop)\n",
    "                for level, value in values.items():\n",
    "                    recipe = f'{prop}.{level}'\n",
    "                    recipes.add(recipe)\n",
    "                    record[recipe] = value\n",
    "            \n",
    "            # Add to the total record list\n",
    "            records[record['key']] = record"
   ]
  },
  {
   "cell_type": "markdown",
   "id": "1377c7cd-c931-4eba-a4d6-4f66c0dbe2d2",
   "metadata": {},
   "source": [
    "Load in the runtimes"
   ]
  },
  {
   "cell_type": "code",
   "execution_count": 5,
   "id": "bf5c5222-5dae-415a-a02a-bfd34c67bfea",
   "metadata": {},
   "outputs": [
    {
     "name": "stderr",
     "output_type": "stream",
     "text": [
      "mdf-mos: 3042675it [03:36, 14052.36it/s]\n"
     ]
    }
   ],
   "source": [
    "for source in to_read:\n",
    "    try:\n",
    "        fp = gzip.open(f'datasets/{source}-results.json.gz')\n",
    "        for line in tqdm(fp, desc=source):\n",
    "            data = json.loads(line)\n",
    "            \n",
    "            # Skip if unsuccessful, or if source does not not match\n",
    "            key = data[\"task_info\"][\"key\"]\n",
    "            if not data['success'] or key not in records:\n",
    "                continue\n",
    "            record = records[key]\n",
    "            if record['source'] != source:\n",
    "                continue\n",
    "                \n",
    "            # Update the times\n",
    "            prop = data[\"task_info\"][\"recipe\"]\n",
    "            level = data[\"task_info\"][\"level\"]\n",
    "            tag = f'{prop}.{level}.runtime'\n",
    "            record[tag] += data[\"time_running\"]\n",
    "            \n",
    "            # If the type is a neutral relaxation, add it the other potential\n",
    "            if data[\"method\"] == \"optimize_structure\" and level.endswith(\"vertical\"):\n",
    "                prop = \"oxidation_potential\" if prop == \"reduction_potential\" else \"reduction_potential\"\n",
    "                tag = f'{prop}.{level}.runtime'\n",
    "                record[tag] += data[\"time_running\"]\n",
    "    except EOFError:  # Thrown if gzip file is still being written\n",
    "        continue\n",
    "    finally:\n",
    "        fp.close()"
   ]
  },
  {
   "cell_type": "markdown",
   "id": "85812358-0ea3-46df-8e94-797b6c0a8c68",
   "metadata": {},
   "source": [
    "Convert it to a dataframe"
   ]
  },
  {
   "cell_type": "code",
   "execution_count": 6,
   "id": "10d7250e-3778-463b-b2e8-83ef2723ccd0",
   "metadata": {},
   "outputs": [],
   "source": [
    "records = pd.DataFrame(records.values())"
   ]
  },
  {
   "cell_type": "code",
   "execution_count": 7,
   "id": "cefca5f2-03e8-4b30-a3f8-a8d31bba45a4",
   "metadata": {},
   "outputs": [
    {
     "name": "stdout",
     "output_type": "stream",
     "text": [
      "Loaded a dataset of 212332 molecules with 2 properties computed at a total of 16 levels\n"
     ]
    }
   ],
   "source": [
    "print(f'Loaded a dataset of {len(records)} molecules with {len(properties)} properties computed at a total of {len(recipes)} levels')"
   ]
  },
  {
   "cell_type": "markdown",
   "id": "90119f52-a0b6-4531-b2f2-672a0a07c75c",
   "metadata": {},
   "source": [
    "## Compute Cumulative Runtime\n",
    "Assume that we execute recipes by doing all approximations with the cheapest configuration before progressing to the next configuration."
   ]
  },
  {
   "cell_type": "code",
   "execution_count": 14,
   "id": "f2155856-4596-4e7f-aa9c-311ce5fdef69",
   "metadata": {},
   "outputs": [
    {
     "name": "stdout",
     "output_type": "stream",
     "text": [
      "Generated 8 recipes:\n"
     ]
    },
    {
     "data": {
      "text/plain": [
       "['xtb_vertical',\n",
       " 'xtb_acn_vertical',\n",
       " 'xtb_adiabatic',\n",
       " 'xtb_acn_adiabatic',\n",
       " 'mopac_pm7_vertical',\n",
       " 'mopac_pm7_acn_vertical',\n",
       " 'mopac_pm7_adiabatic',\n",
       " 'mopac_pm7_acn_adiabatic']"
      ]
     },
     "execution_count": 14,
     "metadata": {},
     "output_type": "execute_result"
    }
   ],
   "source": [
    "run_order = [\n",
    "    f'{c}_{a}'\n",
    "    for c in config_names\n",
    "    for a in approx_names\n",
    "]\n",
    "print(f'Generated {len(run_order)} recipes:')\n",
    "run_order"
   ]
  },
  {
   "cell_type": "markdown",
   "id": "94409f75-937d-49e6-bc78-352530d9747c",
   "metadata": {},
   "source": [
    "Compute the cumulative runtimes"
   ]
  },
  {
   "cell_type": "code",
   "execution_count": 9,
   "id": "dd6b697e-d0df-40c5-8ab7-cb18377d54c5",
   "metadata": {},
   "outputs": [],
   "source": [
    "for prop in properties:\n",
    "    each_levels = [f'{prop}.{l}.runtime' for l in run_order]\n",
    "    total_levels = [f'{prop}.{l}.cumulative' for l in run_order]\n",
    "    \n",
    "    records[total_levels] = records[each_levels].cumsum(axis=1)"
   ]
  },
  {
   "cell_type": "markdown",
   "id": "a70d20ba-6ddf-4b09-beb1-0378bfc71a94",
   "metadata": {},
   "source": [
    "Notes:\n",
    "- I switched from 4 workers per node on 1, and also from temporary files on global filesystems to node-level shm on 12Sept23. "
   ]
  },
  {
   "cell_type": "markdown",
   "id": "a3fcd014-4f5b-4cd7-898d-754959a5d5bc",
   "metadata": {},
   "source": [
    "## Compute Error\n",
    "Compute the error at each level wrt to the top level of accuracy. We are going to use MAE after correcting for any offsets between the two methods"
   ]
  },
  {
   "cell_type": "code",
   "execution_count": 10,
   "id": "6a32ba9d-b30e-4a1a-88ee-516a4c80d390",
   "metadata": {},
   "outputs": [
    {
     "name": "stdout",
     "output_type": "stream",
     "text": [
      "Computing error relative to: mopac_pm7_acn_adiabatic\n"
     ]
    }
   ],
   "source": [
    "print(f'Computing error relative to: {run_order[-1]}')"
   ]
  },
  {
   "cell_type": "code",
   "execution_count": 11,
   "id": "1b92fc84-73f8-456b-af9d-6f36eebf943d",
   "metadata": {},
   "outputs": [
    {
     "name": "stdout",
     "output_type": "stream",
     "text": [
      "Found 119650 records for reduction_potential\n",
      "Prop: reduction_potential - Level: xtb_vertical - MAE: 1.27 - MAE,corrected: 0.35\n",
      "Prop: reduction_potential - Level: xtb_acn_vertical - MAE: 2.74 - MAE,corrected: 0.31\n",
      "Prop: reduction_potential - Level: xtb_adiabatic - MAE: 1.56 - MAE,corrected: 0.30\n",
      "Prop: reduction_potential - Level: xtb_acn_adiabatic - MAE: 3.04 - MAE,corrected: 0.28\n",
      "Prop: reduction_potential - Level: mopac_pm7_vertical - MAE: 2.38 - MAE,corrected: 0.23\n",
      "Prop: reduction_potential - Level: mopac_pm7_acn_vertical - MAE: 0.20 - MAE,corrected: 0.12\n",
      "Prop: reduction_potential - Level: mopac_pm7_adiabatic - MAE: 2.01 - MAE,corrected: 0.17\n",
      "Found 73947 records for oxidation_potential\n",
      "Prop: oxidation_potential - Level: xtb_vertical - MAE: 5.97 - MAE,corrected: 0.29\n",
      "Prop: oxidation_potential - Level: xtb_acn_vertical - MAE: 4.63 - MAE,corrected: 0.25\n",
      "Prop: oxidation_potential - Level: xtb_adiabatic - MAE: 5.82 - MAE,corrected: 0.28\n",
      "Prop: oxidation_potential - Level: xtb_acn_adiabatic - MAE: 4.49 - MAE,corrected: 0.25\n",
      "Prop: oxidation_potential - Level: mopac_pm7_vertical - MAE: 2.04 - MAE,corrected: 0.24\n",
      "Prop: oxidation_potential - Level: mopac_pm7_acn_vertical - MAE: 0.34 - MAE,corrected: 0.15\n",
      "Prop: oxidation_potential - Level: mopac_pm7_adiabatic - MAE: 1.55 - MAE,corrected: 0.18\n"
     ]
    },
    {
     "data": {
      "image/png": "[encoded data removed]",
      "text/plain": [
       "<Figure size 468x180 with 14 Axes>"
      ]
     },
     "metadata": {
      "needs_background": "light"
     },
     "output_type": "display_data"
    }
   ],
   "source": [
    "fig, axxs = plt.subplots(len(properties), len(run_order) - 1, figsize=(6.5, 2.5), sharey='row', sharex='row')\n",
    "\n",
    "for prop, axs in zip(properties, axxs):\n",
    "    target_col = f'{prop}.{run_order[-1]}'\n",
    "    count = np.logical_not(records[target_col].isnull()).sum()\n",
    "    print(f'Found {count} records for {prop}')\n",
    "    for level, ax in zip(run_order, axs):\n",
    "        col = f'{prop}.{level}'\n",
    "        \n",
    "        # Subtract off the average error\n",
    "        mae = (records[col] - records[target_col]).abs().mean()\n",
    "        mean_error = (records[col] - records[target_col]).mean()\n",
    "        mae_corrected = (records[col] - mean_error - records[target_col]).abs().mean()\n",
    "        print(f'Prop: {prop} - Level: {level} - MAE: {mae:.2f} - MAE,corrected: {mae_corrected:.2f}')\n",
    "        \n",
    "        ax.scatter(records[col] - mean_error, records[target_col], s=1, ec='none', alpha=0.7)\n",
    "        \n",
    "    # Format the axes\n",
    "    axs[0].set_ylabel(f'{prop} (V)\\n{config_names[-1]}\\n{approx_names[-1]}', fontsize=8)\n",
    "    \n",
    "# Add y=x\n",
    "for ax in axxs.flatten():\n",
    "    ax.set_xlim(ax.get_ylim())\n",
    "    ax.set_ylim(ax.get_ylim())\n",
    "    ax.plot(ax.get_xlim(), ax.get_xlim(), 'k--')\n",
    "    ax.set_xticklabels([])\n",
    "    \n",
    "# Add the level titles\n",
    "for ax, level in zip(axxs[0, :], run_order):\n",
    "    for name in config_names:\n",
    "        if level.startswith(name):\n",
    "            conf = name\n",
    "            appr = level[len(conf)+1:]\n",
    "    ax.set_title(f'{conf}\\n{appr}', fontsize=8)\n",
    "fig.tight_layout()\n",
    "fig.savefig('figures/pred-vs-actual-redox.png', dpi=320)"
   ]
  },
  {
   "cell_type": "markdown",
   "id": "d89f7f41-917c-411a-9b9d-2966b894d1d5",
   "metadata": {},
   "source": [
    "Create a Pareto plot which shows the cumulative runtime vs accuracy"
   ]
  },
  {
   "cell_type": "code",
   "execution_count": 12,
   "id": "53d9a4e5-65c9-498a-a26a-62d75a4b8920",
   "metadata": {},
   "outputs": [
    {
     "data": {
      "image/png": "[encoded data removed]",
      "text/plain": [
       "<Figure size 468x144 with 2 Axes>"
      ]
     },
     "metadata": {
      "needs_background": "light"
     },
     "output_type": "display_data"
    }
   ],
   "source": [
    "fig, axs = plt.subplots(1, 2, figsize=(6.5, 2.))\n",
    "\n",
    "for prop, ax in zip(properties, axs):\n",
    "    levels = [f'{prop}.{l}' for l in run_order]\n",
    "    \n",
    "    # Compute the MAE without the offest\n",
    "    error_all = (records[levels].values - records[levels[-1]].values[:, None])\n",
    "    offset_all = np.nanmean(error_all, axis=0)\n",
    "    mae_by_level = np.nanmean(np.abs(error_all - offset_all), axis=0)\n",
    "    \n",
    "    # Compute the runtime for complete computations\n",
    "    runtime_all = records[[f'{prop}.{l}.cumulative' for l in run_order]].values\n",
    "    runtime_all[np.isnan(error_all)] = np.nan\n",
    "    runtime_by_level = np.nanmean(runtime_all, axis=0)\n",
    "    \n",
    "    ax.scatter(runtime_by_level, mae_by_level)\n",
    "\n",
    "    # Prettify\n",
    "    ax.set_xlabel('Runtime (s)')\n",
    "    ax.set_title(prop, fontsize=10)\n",
    "    ax.set_ylim(0, max(ax.get_ylim()))\n",
    "\n",
    "axs[0].set_ylabel('MAE (V)')\n",
    "\n",
    "fig.tight_layout()\n",
    "fig.savefig('figures/recipe-pareto-plot-redox.png', dpi=320)"
   ]
  },
  {
   "cell_type": "markdown",
   "id": "be6e67bc-d18f-4007-b4fa-61dc917bee38",
   "metadata": {},
   "source": [
    "Save a copy of the dataset"
   ]
  },
  {
   "cell_type": "code",
   "execution_count": 13,
   "id": "d1bca700-3b3c-45d4-96dc-7afeba711eac",
   "metadata": {},
   "outputs": [],
   "source": [
    "records.to_csv(f'datasets/{\"-\".join(to_read)}_consolidated.csv.gz', index=False)"
   ]
  },
  {
   "cell_type": "code",
   "execution_count": null,
   "id": "fe47b4e9-90c5-43ea-9322-66bf5f0aed39",
   "metadata": {},
   "outputs": [],
   "source": []
  }
 ],
 "metadata": {
  "kernelspec": {
   "display_name": "Python 3 (ipykernel)",
   "language": "python",
   "name": "python3"
  },
  "language_info": {
   "codemirror_mode": {
    "name": "ipython",
    "version": 3
   },
   "file_extension": ".py",
   "mimetype": "text/x-python",
   "name": "python",
   "nbconvert_exporter": "python",
   "pygments_lexer": "ipython3",
   "version": "3.7.4"
  }
 },
 "nbformat": 4,
 "nbformat_minor": 5
}
