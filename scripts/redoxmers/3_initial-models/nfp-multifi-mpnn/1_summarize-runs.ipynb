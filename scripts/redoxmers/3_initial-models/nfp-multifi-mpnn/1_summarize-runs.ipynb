{
 "cells": [
  {
   "cell_type": "markdown",
   "id": "9e7e78d2-67db-446f-b42e-919d633f8cff",
   "metadata": {},
   "source": [
    "# Summarize Runs\n",
    "Find the best model"
   ]
  },
  {
   "cell_type": "code",
   "execution_count": 1,
   "id": "9f636989-2558-4780-86d4-3c054e9a454a",
   "metadata": {},
   "outputs": [],
   "source": [
    "%matplotlib inline\n",
    "from matplotlib import pyplot as plt\n",
    "from pathlib import Path\n",
    "import pandas as pd\n",
    "import numpy as np\n",
    "import shutil\n",
    "import json"
   ]
  },
  {
   "cell_type": "markdown",
   "id": "8c0d2043-71fc-4ac3-833d-94566fe3f065",
   "metadata": {},
   "source": [
    "Configuration"
   ]
  },
  {
   "cell_type": "code",
   "execution_count": 2,
   "id": "ea98bcd7-9a8f-4de4-b499-5beba991ad6a",
   "metadata": {},
   "outputs": [],
   "source": [
    "prop, level = 'ip', 'mopac_pm7-acn-adiabatic'"
   ]
  },
  {
   "cell_type": "markdown",
   "id": "e7d54db0-d00b-49e5-bd39-18a0af37ccc0",
   "metadata": {},
   "source": [
    "## Gather outputs from runs\n",
    "Get the configuration and test summary"
   ]
  },
  {
   "cell_type": "code",
   "execution_count": 3,
   "id": "319cfa5d-4e44-4cb6-898f-d38247c7a77f",
   "metadata": {},
   "outputs": [
    {
     "name": "stdout",
     "output_type": "stream",
     "text": [
      "Found 10 completed runs\n"
     ]
    }
   ],
   "source": [
    "complete_runs = [x.parent for x in Path('runs').glob('*/test_summary.json')]\n",
    "print(f'Found {len(complete_runs)} completed runs')"
   ]
  },
  {
   "cell_type": "code",
   "execution_count": 4,
   "id": "4e2e2d4f-5aac-4fae-bc22-604e6420c7d5",
   "metadata": {},
   "outputs": [],
   "source": [
    "def load_summary(path: Path) -> dict:\n",
    "    \"\"\"Load the summary of the run configuration and parameters\n",
    "    \n",
    "    Args:\n",
    "        path: Path to the run\n",
    "    Returns:\n",
    "        Summary of inputs and results\n",
    "    \"\"\"\n",
    "    \n",
    "    # Load the configuration and summary\n",
    "    output = {'path': path, 'starting_model': path.parent.name}\n",
    "    output.update(json.loads((path / 'params.json').read_text()))\n",
    "    output.update(json.loads((path / 'test_summary.json').read_text()))\n",
    "    return output"
   ]
  },
  {
   "cell_type": "code",
   "execution_count": 5,
   "id": "73d4db9d-1285-47c9-a076-2a7d72cd4c15",
   "metadata": {},
   "outputs": [
    {
     "data": {
      "text/html": [
       "<div>\n",
       "<style scoped>\n",
       "    .dataframe tbody tr th:only-of-type {\n",
       "        vertical-align: middle;\n",
       "    }\n",
       "\n",
       "    .dataframe tbody tr th {\n",
       "        vertical-align: top;\n",
       "    }\n",
       "\n",
       "    .dataframe thead th {\n",
       "        text-align: right;\n",
       "    }\n",
       "</style>\n",
       "<table border=\"1\" class=\"dataframe\">\n",
       "  <thead>\n",
       "    <tr style=\"text-align: right;\">\n",
       "      <th></th>\n",
       "      <th>path</th>\n",
       "      <th>starting_model</th>\n",
       "      <th>atom_features</th>\n",
       "      <th>message_steps</th>\n",
       "      <th>output_layers</th>\n",
       "      <th>reduce_op</th>\n",
       "      <th>atomwise</th>\n",
       "      <th>num_epochs</th>\n",
       "      <th>batch_size</th>\n",
       "      <th>lower_levels</th>\n",
       "      <th>property</th>\n",
       "      <th>level</th>\n",
       "      <th>name</th>\n",
       "      <th>data_hash</th>\n",
       "      <th>mean_absolute_error</th>\n",
       "      <th>r2_score</th>\n",
       "      <th>mean_squared_error</th>\n",
       "    </tr>\n",
       "  </thead>\n",
       "  <tbody>\n",
       "    <tr>\n",
       "      <th>2</th>\n",
       "      <td>runs/f=128-T=4-r=sum-atomwise=False-hash=b638e13f</td>\n",
       "      <td>runs</td>\n",
       "      <td>128</td>\n",
       "      <td>4</td>\n",
       "      <td>[64, 32, 32]</td>\n",
       "      <td>sum</td>\n",
       "      <td>False</td>\n",
       "      <td>32</td>\n",
       "      <td>32</td>\n",
       "      <td>[xtb-vertical, xtb-acn-adiabatic, mopac_pm7-ve...</td>\n",
       "      <td>ip</td>\n",
       "      <td>mopac_pm7-acn-adiabatic</td>\n",
       "      <td>oxidation_potential</td>\n",
       "      <td>7c0c3a2deb373b8186228139b6ec7b9b</td>\n",
       "      <td>0.149285</td>\n",
       "      <td>0.743468</td>\n",
       "      <td>0.050280</td>\n",
       "    </tr>\n",
       "    <tr>\n",
       "      <th>6</th>\n",
       "      <td>runs/f=64-T=4-r=sum-atomwise=False-hash=a7af1717</td>\n",
       "      <td>runs</td>\n",
       "      <td>64</td>\n",
       "      <td>4</td>\n",
       "      <td>[64, 32, 32]</td>\n",
       "      <td>sum</td>\n",
       "      <td>False</td>\n",
       "      <td>512</td>\n",
       "      <td>32</td>\n",
       "      <td>[xtb-vertical, xtb-acn-adiabatic, mopac_pm7-ve...</td>\n",
       "      <td>ip</td>\n",
       "      <td>mopac_pm7-acn-adiabatic</td>\n",
       "      <td>oxidation_potential</td>\n",
       "      <td>7c0c3a2deb373b8186228139b6ec7b9b</td>\n",
       "      <td>0.150801</td>\n",
       "      <td>0.745228</td>\n",
       "      <td>0.049935</td>\n",
       "    </tr>\n",
       "    <tr>\n",
       "      <th>0</th>\n",
       "      <td>runs/f=128-T=4-r=sum-atomwise=True-hash=5e491898</td>\n",
       "      <td>runs</td>\n",
       "      <td>128</td>\n",
       "      <td>4</td>\n",
       "      <td>[64, 32, 32]</td>\n",
       "      <td>sum</td>\n",
       "      <td>True</td>\n",
       "      <td>32</td>\n",
       "      <td>32</td>\n",
       "      <td>[xtb-vertical, xtb-acn-adiabatic, mopac_pm7-ve...</td>\n",
       "      <td>ip</td>\n",
       "      <td>mopac_pm7-acn-adiabatic</td>\n",
       "      <td>oxidation_potential</td>\n",
       "      <td>7c0c3a2deb373b8186228139b6ec7b9b</td>\n",
       "      <td>0.151144</td>\n",
       "      <td>0.744832</td>\n",
       "      <td>0.050013</td>\n",
       "    </tr>\n",
       "    <tr>\n",
       "      <th>4</th>\n",
       "      <td>runs/f=128-T=4-r=sum-atomwise=False-hash=b8baa9ad</td>\n",
       "      <td>runs</td>\n",
       "      <td>128</td>\n",
       "      <td>4</td>\n",
       "      <td>[64, 32, 32]</td>\n",
       "      <td>sum</td>\n",
       "      <td>False</td>\n",
       "      <td>512</td>\n",
       "      <td>32</td>\n",
       "      <td>[xtb-vertical, xtb-acn-adiabatic, mopac_pm7-ve...</td>\n",
       "      <td>ip</td>\n",
       "      <td>mopac_pm7-acn-adiabatic</td>\n",
       "      <td>oxidation_potential</td>\n",
       "      <td>7c0c3a2deb373b8186228139b6ec7b9b</td>\n",
       "      <td>0.151150</td>\n",
       "      <td>0.736880</td>\n",
       "      <td>0.051572</td>\n",
       "    </tr>\n",
       "    <tr>\n",
       "      <th>8</th>\n",
       "      <td>runs/f=128-T=4-r=mean-atomwise=False-hash=e458...</td>\n",
       "      <td>runs</td>\n",
       "      <td>128</td>\n",
       "      <td>4</td>\n",
       "      <td>[64, 32, 32]</td>\n",
       "      <td>mean</td>\n",
       "      <td>False</td>\n",
       "      <td>32</td>\n",
       "      <td>32</td>\n",
       "      <td>[xtb-vertical, xtb-acn-adiabatic, mopac_pm7-ve...</td>\n",
       "      <td>ip</td>\n",
       "      <td>mopac_pm7-acn-adiabatic</td>\n",
       "      <td>oxidation_potential</td>\n",
       "      <td>7c0c3a2deb373b8186228139b6ec7b9b</td>\n",
       "      <td>0.151466</td>\n",
       "      <td>0.741336</td>\n",
       "      <td>0.050698</td>\n",
       "    </tr>\n",
       "  </tbody>\n",
       "</table>\n",
       "</div>"
      ],
      "text/plain": [
       "                                                path starting_model  \\\n",
       "2  runs/f=128-T=4-r=sum-atomwise=False-hash=b638e13f           runs   \n",
       "6   runs/f=64-T=4-r=sum-atomwise=False-hash=a7af1717           runs   \n",
       "0   runs/f=128-T=4-r=sum-atomwise=True-hash=5e491898           runs   \n",
       "4  runs/f=128-T=4-r=sum-atomwise=False-hash=b8baa9ad           runs   \n",
       "8  runs/f=128-T=4-r=mean-atomwise=False-hash=e458...           runs   \n",
       "\n",
       "   atom_features  message_steps output_layers reduce_op  atomwise  num_epochs  \\\n",
       "2            128              4  [64, 32, 32]       sum     False          32   \n",
       "6             64              4  [64, 32, 32]       sum     False         512   \n",
       "0            128              4  [64, 32, 32]       sum      True          32   \n",
       "4            128              4  [64, 32, 32]       sum     False         512   \n",
       "8            128              4  [64, 32, 32]      mean     False          32   \n",
       "\n",
       "   batch_size                                       lower_levels property  \\\n",
       "2          32  [xtb-vertical, xtb-acn-adiabatic, mopac_pm7-ve...       ip   \n",
       "6          32  [xtb-vertical, xtb-acn-adiabatic, mopac_pm7-ve...       ip   \n",
       "0          32  [xtb-vertical, xtb-acn-adiabatic, mopac_pm7-ve...       ip   \n",
       "4          32  [xtb-vertical, xtb-acn-adiabatic, mopac_pm7-ve...       ip   \n",
       "8          32  [xtb-vertical, xtb-acn-adiabatic, mopac_pm7-ve...       ip   \n",
       "\n",
       "                     level                 name  \\\n",
       "2  mopac_pm7-acn-adiabatic  oxidation_potential   \n",
       "6  mopac_pm7-acn-adiabatic  oxidation_potential   \n",
       "0  mopac_pm7-acn-adiabatic  oxidation_potential   \n",
       "4  mopac_pm7-acn-adiabatic  oxidation_potential   \n",
       "8  mopac_pm7-acn-adiabatic  oxidation_potential   \n",
       "\n",
       "                          data_hash  mean_absolute_error  r2_score  \\\n",
       "2  7c0c3a2deb373b8186228139b6ec7b9b             0.149285  0.743468   \n",
       "6  7c0c3a2deb373b8186228139b6ec7b9b             0.150801  0.745228   \n",
       "0  7c0c3a2deb373b8186228139b6ec7b9b             0.151144  0.744832   \n",
       "4  7c0c3a2deb373b8186228139b6ec7b9b             0.151150  0.736880   \n",
       "8  7c0c3a2deb373b8186228139b6ec7b9b             0.151466  0.741336   \n",
       "\n",
       "   mean_squared_error  \n",
       "2            0.050280  \n",
       "6            0.049935  \n",
       "0            0.050013  \n",
       "4            0.051572  \n",
       "8            0.050698  "
      ]
     },
     "execution_count": 5,
     "metadata": {},
     "output_type": "execute_result"
    }
   ],
   "source": [
    "summary = pd.DataFrame(map(load_summary, complete_runs)).sort_values('mean_absolute_error')\n",
    "summary.head()"
   ]
  },
  {
   "cell_type": "markdown",
   "id": "ca3294b2-9175-4bbf-a999-b5221d61a53f",
   "metadata": {},
   "source": [
    "## Learning Curve\n",
    "Figure out if we've completly converged wrt to number of epochs"
   ]
  },
  {
   "cell_type": "code",
   "execution_count": 6,
   "id": "ebeec817-68ff-4b74-be64-d538c130d974",
   "metadata": {},
   "outputs": [],
   "source": [
    "to_eval = summary.query(f'property==\"{prop}\" and level==\"{level}\"')"
   ]
  },
  {
   "cell_type": "code",
   "execution_count": 7,
   "id": "7274506c-5fa9-405a-82b2-6410bb664918",
   "metadata": {},
   "outputs": [
    {
     "data": {
      "text/plain": [
       "path                    runs/f=64-T=4-r=sum-atomwise=False-hash=a7af1717\n",
       "starting_model                                                      runs\n",
       "atom_features                                                         64\n",
       "message_steps                                                          4\n",
       "output_layers                                               [64, 32, 32]\n",
       "reduce_op                                                            sum\n",
       "atomwise                                                           False\n",
       "num_epochs                                                           512\n",
       "batch_size                                                            32\n",
       "lower_levels           [xtb-vertical, xtb-acn-adiabatic, mopac_pm7-ve...\n",
       "property                                                              ip\n",
       "level                                            mopac_pm7-acn-adiabatic\n",
       "name                                                 oxidation_potential\n",
       "data_hash                               7c0c3a2deb373b8186228139b6ec7b9b\n",
       "mean_absolute_error                                             0.150801\n",
       "r2_score                                                        0.745228\n",
       "mean_squared_error                                              0.049935\n",
       "Name: 6, dtype: object"
      ]
     },
     "execution_count": 7,
     "metadata": {},
     "output_type": "execute_result"
    }
   ],
   "source": [
    "best = summary.sort_values('mean_squared_error').iloc[0]\n",
    "best"
   ]
  },
  {
   "cell_type": "code",
   "execution_count": 8,
   "id": "eae0c48f-d5e4-4e92-a8c0-e4da65ac8fe3",
   "metadata": {},
   "outputs": [],
   "source": [
    "log = pd.read_csv(best.path / 'log.csv')"
   ]
  },
  {
   "cell_type": "code",
   "execution_count": 9,
   "id": "abf45917-919e-4ab2-b2e1-f9b6543be57b",
   "metadata": {},
   "outputs": [
    {
     "data": {
      "text/plain": [
       "Text(0, 0.5, 'Loss')"
      ]
     },
     "execution_count": 9,
     "metadata": {},
     "output_type": "execute_result"
    },
    {
     "data": {
      "image/png": "[encoded data removed]",
      "text/plain": [
       "<Figure size 350x200 with 1 Axes>"
      ]
     },
     "metadata": {},
     "output_type": "display_data"
    }
   ],
   "source": [
    "fig, ax = plt.subplots(figsize=(3.5, 2.))\n",
    "\n",
    "ax.semilogy(log.index, log['loss'], '--k')\n",
    "ax.semilogy(log.index, log['val_loss'], '-r')\n",
    "\n",
    "\n",
    "ax.set_xlabel('Epoch')\n",
    "ax.set_ylabel('Loss')"
   ]
  },
  {
   "cell_type": "markdown",
   "id": "9d66d716-fddf-48be-b124-1a763ac90825",
   "metadata": {},
   "source": [
    "Early stopping is working!"
   ]
  },
  {
   "cell_type": "markdown",
   "id": "8ecce9a9-f0b7-44bb-b452-3464a9e2dd2f",
   "metadata": {},
   "source": [
    "## Plot the predicted vs actual\n",
    "See if there are significant outliers, etc"
   ]
  },
  {
   "cell_type": "code",
   "execution_count": 10,
   "id": "189bce39-58eb-4d72-8160-3684a82f4b28",
   "metadata": {},
   "outputs": [
    {
     "name": "stdout",
     "output_type": "stream",
     "text": [
      "Loaded 25911 test records\n"
     ]
    }
   ],
   "source": [
    "test_data = pd.read_csv(best.path / 'test_results.csv')\n",
    "print(f'Loaded {len(test_data)} test records')"
   ]
  },
  {
   "cell_type": "code",
   "execution_count": 11,
   "id": "2edf1558-9d4a-4eab-81f9-49b0569e58a2",
   "metadata": {},
   "outputs": [
    {
     "data": {
      "text/plain": [
       "Text(0, 0.5, 'Actual')"
      ]
     },
     "execution_count": 11,
     "metadata": {},
     "output_type": "execute_result"
    },
    {
     "data": {
      "image/png": "[encoded data removed]",
      "text/plain": [
       "<Figure size 350x350 with 1 Axes>"
      ]
     },
     "metadata": {},
     "output_type": "display_data"
    }
   ],
   "source": [
    "fig, ax = plt.subplots(figsize=(3.5, 3.5))\n",
    "\n",
    "ax.scatter(test_data['pred'], test_data['true'], s=4)\n",
    "\n",
    "ax.set_xlim(ax.get_xlim())\n",
    "ax.set_ylim(ax.get_ylim())\n",
    "\n",
    "ax.plot(ax.get_xlim(), ax.get_xlim(), 'k--')\n",
    "\n",
    "ax.set_xlabel('Predicted')\n",
    "ax.set_ylabel('Actual')"
   ]
  },
  {
   "cell_type": "markdown",
   "id": "82842e77-7354-4155-a633-5a29766e009e",
   "metadata": {},
   "source": [
    "## Save the top models\n",
    "Get the path to the best model for each property, save a link to it"
   ]
  },
  {
   "cell_type": "code",
   "execution_count": 12,
   "id": "2a08bde7-0876-4404-8453-98ca10d1c068",
   "metadata": {},
   "outputs": [
    {
     "data": {
      "text/plain": [
       "PosixPath('best_models')"
      ]
     },
     "execution_count": 12,
     "metadata": {},
     "output_type": "execute_result"
    }
   ],
   "source": [
    "best_dir = Path(\"best_models\")\n",
    "if best_dir.is_dir():\n",
    "    shutil.rmtree(best_dir)\n",
    "best_dir"
   ]
  },
  {
   "cell_type": "code",
   "execution_count": 13,
   "id": "39e29508-3314-42f0-8228-0425e941e638",
   "metadata": {},
   "outputs": [
    {
     "name": "stdout",
     "output_type": "stream",
     "text": [
      "Best for oxidation_potential/mopac_pm7-acn-adiabatic: runs/f=128-T=4-r=sum-atomwise=False-hash=b638e13f\n"
     ]
    }
   ],
   "source": [
    "for (prop, level), group in summary.groupby(['name', 'level']):\n",
    "    (best_dir / prop).mkdir(exist_ok=True, parents=True)\n",
    "    best = group.sort_values('mean_absolute_error', ascending=True).iloc[0]\n",
    "    print(f'Best for {prop}/{level}: {best.path}')\n",
    "    out_dir = best_dir / prop / level\n",
    "    out_dir.symlink_to(best.path.absolute())"
   ]
  },
  {
   "cell_type": "code",
   "execution_count": null,
   "id": "3c8724e3-1920-4d84-899f-8b4431502a74",
   "metadata": {},
   "outputs": [],
   "source": []
  }
 ],
 "metadata": {
  "kernelspec": {
   "display_name": "Python 3 (ipykernel)",
   "language": "python",
   "name": "python3"
  },
  "language_info": {
   "codemirror_mode": {
    "name": "ipython",
    "version": 3
   },
   "file_extension": ".py",
   "mimetype": "text/x-python",
   "name": "python",
   "nbconvert_exporter": "python",
   "pygments_lexer": "ipython3",
   "version": "3.10.13"
  }
 },
 "nbformat": 4,
 "nbformat_minor": 5
}
