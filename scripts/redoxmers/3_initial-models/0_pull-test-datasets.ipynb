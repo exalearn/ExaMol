{
 "cells": [
  {
   "cell_type": "markdown",
   "id": "9690697a-3fa2-4e6f-be7b-88e794757667",
   "metadata": {},
   "source": [
    "# Pull Test Datasets\n",
    "Create test datasets from the initial datasets. "
   ]
  },
  {
   "cell_type": "code",
   "execution_count": 1,
   "id": "21f08639-6ca7-4daf-a9ac-4dbc6bbc0d33",
   "metadata": {},
   "outputs": [],
   "source": [
    "from sklearn.model_selection import train_test_split\n",
    "from pathlib import Path\n",
    "from hashlib import md5\n",
    "from tqdm import tqdm\n",
    "import json\n",
    "import gzip"
   ]
  },
  {
   "cell_type": "markdown",
   "id": "0795ce01-e887-4a91-a0b9-7f408d256b6a",
   "metadata": {},
   "source": [
    "Configuration"
   ]
  },
  {
   "cell_type": "code",
   "execution_count": 2,
   "id": "7ce0f88e-2ebc-45e7-9932-e009029c24d1",
   "metadata": {
    "tags": []
   },
   "outputs": [],
   "source": [
    "dataset_name: str = 'mdf-mos'\n",
    "target_prop: str = 'reduction_potential'\n",
    "level: str = 'mopac_pm7-acn-adiabatic'"
   ]
  },
  {
   "cell_type": "markdown",
   "id": "9292af8e-cbd5-4f38-a7eb-176ea8382ded",
   "metadata": {},
   "source": [
    "Defining where to look"
   ]
  },
  {
   "cell_type": "code",
   "execution_count": 3,
   "id": "5a9e7260-cee6-4fa9-ad11-787c65cbde25",
   "metadata": {
    "tags": []
   },
   "outputs": [],
   "source": [
    "data_path = Path(f'../2_initial-data/datasets/{dataset_name}.json.gz')\n",
    "out_path = Path(f'datasets/{dataset_name}/{target_prop}-{level}/')"
   ]
  },
  {
   "cell_type": "markdown",
   "id": "9fc22529-8f19-402d-95ff-aaaddbb33691",
   "metadata": {},
   "source": [
    "## Load the Data\n",
    "Load only records with the target level of fidelity into memory"
   ]
  },
  {
   "cell_type": "code",
   "execution_count": 4,
   "id": "9ed772ae-afec-45a8-9cb5-698a6b9e12cb",
   "metadata": {
    "tags": []
   },
   "outputs": [
    {
     "name": "stderr",
     "output_type": "stream",
     "text": [
      "1115110it [00:31, 35706.54it/s]"
     ]
    },
    {
     "name": "stdout",
     "output_type": "stream",
     "text": [
      "Loaded 150585 matching records. Hash: b29db032ead2c10d02d23947a5f452c8\n"
     ]
    },
    {
     "name": "stderr",
     "output_type": "stream",
     "text": [
      "\n"
     ]
    }
   ],
   "source": [
    "all_records = []\n",
    "hasher = md5()\n",
    "with gzip.open(data_path, 'rt') as fp:\n",
    "    for line in tqdm(fp):\n",
    "        # Skip if the record contains our property\n",
    "        record = json.loads(line)\n",
    "        if not level in record['properties'].get(target_prop, {}):\n",
    "            continue\n",
    "            \n",
    "        # Update the hash and list with this record\n",
    "        hasher.update(line.encode())\n",
    "        all_records.append(line)\n",
    "data_hash = hasher.hexdigest()\n",
    "print(f'Loaded {len(all_records)} matching records. Hash: {data_hash}')"
   ]
  },
  {
   "cell_type": "markdown",
   "id": "5d987278-d3e5-44c8-9585-fbbc5c4dd88d",
   "metadata": {},
   "source": [
    "## Split then save to disk\n",
    "Save the matching records to disk if they are new"
   ]
  },
  {
   "cell_type": "code",
   "execution_count": 5,
   "id": "2db5b488-05a8-49a8-b3dd-bdeb116b3c8f",
   "metadata": {
    "tags": []
   },
   "outputs": [],
   "source": [
    "out_path.mkdir(parents=True, exist_ok=True)"
   ]
  },
  {
   "cell_type": "code",
   "execution_count": 6,
   "id": "3509f3ab-94b9-439e-bd36-d1d67202061a",
   "metadata": {
    "tags": []
   },
   "outputs": [],
   "source": [
    "md5_path = out_path / 'dataset.md5'\n",
    "if md5_path.is_file() and md5_path.read_text() == data_hash:\n",
    "    print('FYI: Nothing has changed since we wrote this data last')\n",
    "md5_path.write_text(data_hash);"
   ]
  },
  {
   "cell_type": "code",
   "execution_count": 7,
   "id": "5f1c3094-016f-4e9b-88c1-38aa879a8a26",
   "metadata": {
    "tags": []
   },
   "outputs": [
    {
     "name": "stdout",
     "output_type": "stream",
     "text": [
      "Split off 112938 for a training set\n"
     ]
    }
   ],
   "source": [
    "train_records, test_records = train_test_split(all_records, shuffle=True, random_state=1)\n",
    "print(f'Split off {len(train_records)} for a training set')"
   ]
  },
  {
   "cell_type": "markdown",
   "id": "4f7a6336-b144-4721-898f-5efac8261f1a",
   "metadata": {},
   "source": [
    "Save each to disk"
   ]
  },
  {
   "cell_type": "code",
   "execution_count": 8,
   "id": "dac90dfd-9feb-4d1d-b4ae-a9fa5c6b5064",
   "metadata": {
    "tags": []
   },
   "outputs": [
    {
     "name": "stderr",
     "output_type": "stream",
     "text": [
      "100%|████████████████████████████████████████████████████████████████████████████████████████████████████████████████████████████████████████████████████████████████████████████████████████████████████████████████████████████████████████████| 112938/112938 [06:07<00:00, 306.95it/s]\n",
      "100%|██████████████████████████████████████████████████████████████████████████████████████████████████████████████████████████████████████████████████████████████████████████████████████████████████████████████████████████████████████████████| 37647/37647 [02:01<00:00, 310.27it/s]\n"
     ]
    }
   ],
   "source": [
    "for label, records in zip(['train', 'test'], [train_records, test_records]):\n",
    "    with gzip.open(out_path / f'{label}.json.gz', 'wt') as fp:\n",
    "        for line in tqdm(records):\n",
    "            fp.write(line)"
   ]
  }
 ],
 "metadata": {
  "kernelspec": {
   "display_name": "Python 3 (ipykernel)",
   "language": "python",
   "name": "python3"
  },
  "language_info": {
   "codemirror_mode": {
    "name": "ipython",
    "version": 3
   },
   "file_extension": ".py",
   "mimetype": "text/x-python",
   "name": "python",
   "nbconvert_exporter": "python",
   "pygments_lexer": "ipython3",
   "version": "3.10.13"
  }
 },
 "nbformat": 4,
 "nbformat_minor": 5
}
