{
 "cells": [
  {
   "cell_type": "markdown",
   "id": "3047b773-6014-40f2-9c14-9fb97bda56c0",
   "metadata": {},
   "source": [
    "# Assess Solvation Energies\n",
    "Compare the CP2K solvation energies to those from Gaussian, which uses a different implicit solvation model."
   ]
  },
  {
   "cell_type": "code",
   "execution_count": 1,
   "id": "a15a54b9-7737-4480-92d7-514328bb6fc6",
   "metadata": {},
   "outputs": [
    {
     "name": "stderr",
     "output_type": "stream",
     "text": [
      "/lus/grand/projects/CSC249ADCD08/ExaMol/env/lib/python3.10/site-packages/tqdm/auto.py:22: TqdmWarning: IProgress not found. Please update jupyter and ipywidgets. See https://ipywidgets.readthedocs.io/en/stable/user_install.html\n",
      "  from .autonotebook import tqdm as notebook_tqdm\n"
     ]
    }
   ],
   "source": [
    "%matplotlib inline\n",
    "from matplotlib import pyplot as plt\n",
    "from scipy.stats import pearsonr, kendalltau\n",
    "from ase import units\n",
    "from foundry import Foundry\n",
    "from ase import units \n",
    "import pandas as pd"
   ]
  },
  {
   "cell_type": "markdown",
   "id": "15fe62d4-9b79-48a4-8cf2-fe78ab3fd9f0",
   "metadata": {},
   "source": [
    "## Load in the Baseline and CP2K results\n",
    "The baseline is our QM9-based dataset and the CP2K is stored on disk"
   ]
  },
  {
   "cell_type": "code",
   "execution_count": 2,
   "id": "778bf003-de09-4d77-aa2c-d634aa112d1d",
   "metadata": {},
   "outputs": [],
   "source": [
    "client = Foundry(force_login=True)\n",
    "client.load('10.18126/jos5-wj65', globus=False)\n",
    "baseline = pd.concat(client.load_data()['train'], axis=1)"
   ]
  },
  {
   "cell_type": "code",
   "execution_count": 3,
   "id": "5d02ceed-aeff-4d6c-a05d-c3ac45596fec",
   "metadata": {},
   "outputs": [],
   "source": [
    "baseline.rename(columns={'smiles_1': 'smiles'}, inplace=True)"
   ]
  },
  {
   "cell_type": "markdown",
   "id": "0a55085f-1048-476e-a317-bc0631f162f4",
   "metadata": {},
   "source": [
    "Load the CP2K, which are stored per-calculation. We'll need to compute IE ourselves"
   ]
  },
  {
   "cell_type": "code",
   "execution_count": 4,
   "id": "86b451a7-6966-4e06-a805-69bbc4022794",
   "metadata": {},
   "outputs": [
    {
     "name": "stdout",
     "output_type": "stream",
     "text": [
      "Loaded 8213 calculations of 2862 molecules\n"
     ]
    }
   ],
   "source": [
    "cp2k_solvent = pd.read_json('solvation.json', lines=True).drop(columns=['result'])\n",
    "print(f'Loaded {len(cp2k_solvent)} calculations of {len(set(cp2k_solvent.filename))} molecules')"
   ]
  },
  {
   "cell_type": "code",
   "execution_count": 5,
   "id": "35dd0d08-1507-4e81-92e8-b5757ed4164d",
   "metadata": {},
   "outputs": [
    {
     "name": "stdout",
     "output_type": "stream",
     "text": [
      "Loaded 14397 calculations of 3027 molecules\n"
     ]
    }
   ],
   "source": [
    "cp2k_vacuum = pd.read_json('output.json', lines=True).drop(columns=['result'])\n",
    "print(f'Loaded {len(cp2k_vacuum)} calculations of {len(set(cp2k_vacuum.filename))} molecules')"
   ]
  },
  {
   "cell_type": "markdown",
   "id": "11751331-8a59-44fe-bfcf-2e64e6c8e8ec",
   "metadata": {},
   "source": [
    "Merge them "
   ]
  },
  {
   "cell_type": "code",
   "execution_count": 6,
   "id": "ede5c3f6-b475-4820-a401-347a73df7e62",
   "metadata": {},
   "outputs": [],
   "source": [
    "cp2k_data = cp2k_solvent.merge(cp2k_vacuum, on=['config_name', 'charge', 'filename', 'smiles'], suffixes=['_solvent', '_vacuum'])"
   ]
  },
  {
   "cell_type": "code",
   "execution_count": 7,
   "id": "801ad2f4-d7ed-4af8-9ba4-42a9d138c873",
   "metadata": {},
   "outputs": [],
   "source": [
    "cp2k_data['G_solv'] = (cp2k_data['energy_solvent'] - cp2k_data['energy_vacuum']) * units.mol / units.kcal"
   ]
  },
  {
   "cell_type": "markdown",
   "id": "0b15c0f2-bc4c-4221-9780-7f2fbe7a6fc7",
   "metadata": {},
   "source": [
    "## Compare to PCM\n",
    "Compare each of configurations we've run with CP2K"
   ]
  },
  {
   "cell_type": "code",
   "execution_count": 8,
   "id": "ee423b74-e23f-4cba-adf6-96c132079f6f",
   "metadata": {},
   "outputs": [],
   "source": [
    "total_configs = len(set(cp2k_data.config_name))"
   ]
  },
  {
   "cell_type": "code",
   "execution_count": 9,
   "id": "d097c52c-d37f-4865-a466-23c8ed41f306",
   "metadata": {},
   "outputs": [
    {
     "name": "stdout",
     "output_type": "stream",
     "text": [
      "cp2k_blyp_dzvp 1.2875475014245474\n"
     ]
    },
    {
     "data": {
      "image/png": "[encoded data removed]",
      "text/plain": [
       "<Figure size 600x250 with 3 Axes>"
      ]
     },
     "metadata": {},
     "output_type": "display_data"
    }
   ],
   "source": [
    "fig, axs = plt.subplots(1, 3, sharey=True, figsize=(6, 2.5))\n",
    "\n",
    "for ax, (gid, group) in zip(axs, cp2k_data.query('charge==0').groupby('config_name')):\n",
    "    ax.set_title(gid, fontsize=10)\n",
    "    \n",
    "    # Plot the data\n",
    "    merged = group.merge(baseline, on=['smiles'])\n",
    "    r2 = pearsonr(merged['G_solv'], merged['sol_acn'])\n",
    "    tau = kendalltau(merged['G_solv'], merged['sol_acn'])\n",
    "    offset = (merged['G_solv'] - merged['sol_acn']).mean()\n",
    "    mae = ((merged['G_solv'] - merged['sol_acn']) - offset).abs().mean()\n",
    "    print(gid, mae)\n",
    "    ax.scatter(merged['G_solv'], merged['sol_acn'], s=7)\n",
    "    ax.text(0.05, 0.98, f'$R^2$={r2[0]:.3f}\\n$\\\\tau$={tau[0]:.2f}\\nMAE: {mae :.2f} kcal/mol\\nN={len(merged)}', \n",
    "           transform=ax.transAxes, va='top', fontsize=7)\n",
    "    \n",
    "    # Plot y=x\n",
    "    #ax.set_xlim(4, 16)\n",
    "    ax.set_ylim(ax.get_xlim())\n",
    "    \n",
    "    ax.plot(ax.get_xlim(), ax.get_xlim(), 'k--', lw=1)\n",
    "\n",
    "    ax.set_xlabel('IP, CP2K (kcal/mol)')\n",
    "\n",
    "axs[0].set_ylabel('IP, PCM (kcal/mol)')\n",
    "fig.tight_layout()"
   ]
  },
  {
   "cell_type": "code",
   "execution_count": null,
   "id": "b740d809-d577-41df-b1c7-04a1ac712cf2",
   "metadata": {},
   "outputs": [],
   "source": []
  }
 ],
 "metadata": {
  "kernelspec": {
   "display_name": "examol",
   "language": "python",
   "name": "examol"
  },
  "language_info": {
   "codemirror_mode": {
    "name": "ipython",
    "version": 3
   },
   "file_extension": ".py",
   "mimetype": "text/x-python",
   "name": "python",
   "nbconvert_exporter": "python",
   "pygments_lexer": "ipython3",
   "version": "3.10.8"
  }
 },
 "nbformat": 4,
 "nbformat_minor": 5
}
