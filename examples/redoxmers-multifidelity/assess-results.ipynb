{
 "cells": [
  {
   "cell_type": "markdown",
   "id": "25741c16-74e4-4dc4-898f-d4e80bbaf129",
   "metadata": {},
   "source": [
    "## Evaluate the Outcomes of Simulatinos\n",
    "Make sure that the simulations ran as expected"
   ]
  },
  {
   "cell_type": "code",
   "execution_count": 1,
   "id": "37de0781-5159-4371-9a3f-4e9c7ad4de97",
   "metadata": {
    "tags": []
   },
   "outputs": [],
   "source": [
    "%matplotlib inline\n",
    "from matplotlib import pyplot as plt\n",
    "import pandas as pd\n",
    "import numpy as np\n",
    "import json"
   ]
  },
  {
   "cell_type": "markdown",
   "id": "4b344ba3-bd4b-49cc-a24c-bf208582da43",
   "metadata": {},
   "source": [
    "## Load Simulation Results\n",
    "Get the results from simulation tasks"
   ]
  },
  {
   "cell_type": "code",
   "execution_count": 2,
   "id": "6f13017f-f171-4659-9ae3-d611e9db0427",
   "metadata": {
    "tags": []
   },
   "outputs": [],
   "source": [
    "def load_tasks(run_path: str) -> pd.DataFrame:\n",
    "    task_info = []\n",
    "    with open(f'{run_path}/simulation-results.json') as fp:\n",
    "        for line in fp:\n",
    "            try:\n",
    "                record = json.loads(line)\n",
    "            except json.JSONDecodeError: \n",
    "                continue\n",
    "            for f in ['task_id', 'failure_info', 'worker_info', 'serialization_method',\n",
    "                     'additional_timing']:\n",
    "                record.pop(f)\n",
    "            record['recipes'] = tuple(f'{x[\"name\"]}/{x[\"level\"]}' for x in record['task_info']['recipes'])\n",
    "            record['molecule'] = record['task_info']['key']\n",
    "            task_info.append(record)\n",
    "    task_info = pd.DataFrame(task_info)\n",
    "    print(f'Loaded {len(task_info)} task records')\n",
    "    \n",
    "    # Group simulation tasks by recipe and molecule\n",
    "    grouped_tasks = task_info.groupby(['molecule', 'recipes']).agg({'time_running': 'sum', 'time_result_received': 'min'}).sort_values('time_result_received')\n",
    "    grouped_tasks['walltime'] = grouped_tasks['time_result_received'] - grouped_tasks['time_result_received'].min()\n",
    "    grouped_tasks['compute_time'] = grouped_tasks['time_running'].cumsum()\n",
    "    grouped_tasks.reset_index(inplace=True)\n",
    "    print(f'Consolidated to {len(grouped_tasks)} computations')\n",
    "    \n",
    "    # Store the results\n",
    "    db = {}\n",
    "    with open(f'{run_path}/database.json') as fp:\n",
    "        for line in fp:\n",
    "            record = json.loads(line)\n",
    "            db[record['key']] = record\n",
    "            \n",
    "    # Get the results from each computation\n",
    "    all_recipes = sum(map(list, set(grouped_tasks['recipes'])), [])\n",
    "    grouped_tasks['smiles'] = grouped_tasks.apply(lambda x: db.get(x['molecule'], {}).get('identifier', {}).get('smiles'), axis=1)\n",
    "    for recipe in all_recipes:\n",
    "        prop, levl = recipe.split(\"/\")\n",
    "        grouped_tasks[recipe] = grouped_tasks.apply(lambda x: db.get(x['molecule'], {}).get('properties', {}).get(prop, {}).get(levl) if recipe in x['recipes'] else None, axis=1)\n",
    "    return grouped_tasks"
   ]
  },
  {
   "cell_type": "code",
   "execution_count": 3,
   "id": "8dc12130-1c34-449f-9765-58479e12bc21",
   "metadata": {
    "tags": []
   },
   "outputs": [
    {
     "name": "stdout",
     "output_type": "stream",
     "text": [
      "Loaded 420 task records\n",
      "Consolidated to 214 computations\n"
     ]
    },
    {
     "data": {
      "text/html": [
       "<div>\n",
       "<style scoped>\n",
       "    .dataframe tbody tr th:only-of-type {\n",
       "        vertical-align: middle;\n",
       "    }\n",
       "\n",
       "    .dataframe tbody tr th {\n",
       "        vertical-align: top;\n",
       "    }\n",
       "\n",
       "    .dataframe thead th {\n",
       "        text-align: right;\n",
       "    }\n",
       "</style>\n",
       "<table border=\"1\" class=\"dataframe\">\n",
       "  <thead>\n",
       "    <tr style=\"text-align: right;\">\n",
       "      <th></th>\n",
       "      <th>molecule</th>\n",
       "      <th>recipes</th>\n",
       "      <th>time_running</th>\n",
       "      <th>time_result_received</th>\n",
       "      <th>walltime</th>\n",
       "      <th>compute_time</th>\n",
       "      <th>smiles</th>\n",
       "      <th>oxidation_potential/mopac_pm7-acn-vertical</th>\n",
       "      <th>oxidation_potential/mopac_pm7-acn-adiabatic</th>\n",
       "      <th>solvation_energy/mopac_pm7-acn</th>\n",
       "      <th>oxidation_potential/mopac_pm7-vertical</th>\n",
       "    </tr>\n",
       "  </thead>\n",
       "  <tbody>\n",
       "    <tr>\n",
       "      <th>209</th>\n",
       "      <td>LNRLUQIHOWKFMD-UHFFFAOYSA-N</td>\n",
       "      <td>(oxidation_potential/mopac_pm7-vertical,)</td>\n",
       "      <td>13.649488</td>\n",
       "      <td>1.701977e+09</td>\n",
       "      <td>899.012115</td>\n",
       "      <td>2636.626223</td>\n",
       "      <td>COCOC(COC)C(c1ccc(C(C)OC)cc1)([N+](=O)[O-])[N+...</td>\n",
       "      <td>NaN</td>\n",
       "      <td>NaN</td>\n",
       "      <td>NaN</td>\n",
       "      <td>9.31</td>\n",
       "    </tr>\n",
       "    <tr>\n",
       "      <th>210</th>\n",
       "      <td>UYGWGMJKFNTSDV-UHFFFAOYSA-N</td>\n",
       "      <td>(oxidation_potential/mopac_pm7-acn-adiabatic, ...</td>\n",
       "      <td>50.808988</td>\n",
       "      <td>1.701977e+09</td>\n",
       "      <td>917.916562</td>\n",
       "      <td>2687.435211</td>\n",
       "      <td>CCCOC(OCOC)C(OC)(c1ccc(C=O)cc1)C(C)OC</td>\n",
       "      <td>NaN</td>\n",
       "      <td>6.895047</td>\n",
       "      <td>-13.6454</td>\n",
       "      <td>NaN</td>\n",
       "    </tr>\n",
       "    <tr>\n",
       "      <th>211</th>\n",
       "      <td>IAHXKVHHVFSEHB-UHFFFAOYSA-N</td>\n",
       "      <td>(oxidation_potential/mopac_pm7-acn-vertical,)</td>\n",
       "      <td>0.078529</td>\n",
       "      <td>1.701977e+09</td>\n",
       "      <td>931.283436</td>\n",
       "      <td>2687.513740</td>\n",
       "      <td>COCOC([N+](=O)[O-])C(C=O)(c1ccc(C=O)cc1)[N+](=...</td>\n",
       "      <td>NaN</td>\n",
       "      <td>NaN</td>\n",
       "      <td>NaN</td>\n",
       "      <td>NaN</td>\n",
       "    </tr>\n",
       "    <tr>\n",
       "      <th>212</th>\n",
       "      <td>ZLULEADOZLYAPX-UHFFFAOYSA-N</td>\n",
       "      <td>(oxidation_potential/mopac_pm7-vertical,)</td>\n",
       "      <td>11.283795</td>\n",
       "      <td>1.701977e+09</td>\n",
       "      <td>942.181175</td>\n",
       "      <td>2698.797535</td>\n",
       "      <td>COCC(OC)C(OC)(c1ccc(C(C)C)cc1)[N+](=O)[O-]</td>\n",
       "      <td>NaN</td>\n",
       "      <td>NaN</td>\n",
       "      <td>NaN</td>\n",
       "      <td>NaN</td>\n",
       "    </tr>\n",
       "    <tr>\n",
       "      <th>213</th>\n",
       "      <td>YRMREGVHIJKVHN-UHFFFAOYSA-N</td>\n",
       "      <td>(oxidation_potential/mopac_pm7-acn-adiabatic, ...</td>\n",
       "      <td>14.680816</td>\n",
       "      <td>1.701977e+09</td>\n",
       "      <td>945.877630</td>\n",
       "      <td>2713.478351</td>\n",
       "      <td>CC(C)OC(OC(C)C)C(C=O)(c1ccc(C=O)cc1)[N+](=O)[O-]</td>\n",
       "      <td>NaN</td>\n",
       "      <td>NaN</td>\n",
       "      <td>-13.1968</td>\n",
       "      <td>NaN</td>\n",
       "    </tr>\n",
       "  </tbody>\n",
       "</table>\n",
       "</div>"
      ],
      "text/plain": [
       "                        molecule  \\\n",
       "209  LNRLUQIHOWKFMD-UHFFFAOYSA-N   \n",
       "210  UYGWGMJKFNTSDV-UHFFFAOYSA-N   \n",
       "211  IAHXKVHHVFSEHB-UHFFFAOYSA-N   \n",
       "212  ZLULEADOZLYAPX-UHFFFAOYSA-N   \n",
       "213  YRMREGVHIJKVHN-UHFFFAOYSA-N   \n",
       "\n",
       "                                               recipes  time_running  \\\n",
       "209          (oxidation_potential/mopac_pm7-vertical,)     13.649488   \n",
       "210  (oxidation_potential/mopac_pm7-acn-adiabatic, ...     50.808988   \n",
       "211      (oxidation_potential/mopac_pm7-acn-vertical,)      0.078529   \n",
       "212          (oxidation_potential/mopac_pm7-vertical,)     11.283795   \n",
       "213  (oxidation_potential/mopac_pm7-acn-adiabatic, ...     14.680816   \n",
       "\n",
       "     time_result_received    walltime  compute_time  \\\n",
       "209          1.701977e+09  899.012115   2636.626223   \n",
       "210          1.701977e+09  917.916562   2687.435211   \n",
       "211          1.701977e+09  931.283436   2687.513740   \n",
       "212          1.701977e+09  942.181175   2698.797535   \n",
       "213          1.701977e+09  945.877630   2713.478351   \n",
       "\n",
       "                                                smiles  \\\n",
       "209  COCOC(COC)C(c1ccc(C(C)OC)cc1)([N+](=O)[O-])[N+...   \n",
       "210              CCCOC(OCOC)C(OC)(c1ccc(C=O)cc1)C(C)OC   \n",
       "211  COCOC([N+](=O)[O-])C(C=O)(c1ccc(C=O)cc1)[N+](=...   \n",
       "212         COCC(OC)C(OC)(c1ccc(C(C)C)cc1)[N+](=O)[O-]   \n",
       "213   CC(C)OC(OC(C)C)C(C=O)(c1ccc(C=O)cc1)[N+](=O)[O-]   \n",
       "\n",
       "     oxidation_potential/mopac_pm7-acn-vertical  \\\n",
       "209                                         NaN   \n",
       "210                                         NaN   \n",
       "211                                         NaN   \n",
       "212                                         NaN   \n",
       "213                                         NaN   \n",
       "\n",
       "     oxidation_potential/mopac_pm7-acn-adiabatic  \\\n",
       "209                                          NaN   \n",
       "210                                     6.895047   \n",
       "211                                          NaN   \n",
       "212                                          NaN   \n",
       "213                                          NaN   \n",
       "\n",
       "     solvation_energy/mopac_pm7-acn  oxidation_potential/mopac_pm7-vertical  \n",
       "209                             NaN                                    9.31  \n",
       "210                        -13.6454                                     NaN  \n",
       "211                             NaN                                     NaN  \n",
       "212                             NaN                                     NaN  \n",
       "213                        -13.1968                                     NaN  "
      ]
     },
     "execution_count": 3,
     "metadata": {},
     "output_type": "execute_result"
    }
   ],
   "source": [
    "multfi_tasks = load_tasks('run')\n",
    "multfi_tasks.tail()"
   ]
  },
  {
   "cell_type": "code",
   "execution_count": 4,
   "id": "0507b028-b8a3-4bec-9b4b-df8a8f6556a5",
   "metadata": {
    "tags": []
   },
   "outputs": [
    {
     "name": "stdout",
     "output_type": "stream",
     "text": [
      "Loaded 198 task records\n",
      "Consolidated to 57 computations\n"
     ]
    },
    {
     "data": {
      "text/html": [
       "<div>\n",
       "<style scoped>\n",
       "    .dataframe tbody tr th:only-of-type {\n",
       "        vertical-align: middle;\n",
       "    }\n",
       "\n",
       "    .dataframe tbody tr th {\n",
       "        vertical-align: top;\n",
       "    }\n",
       "\n",
       "    .dataframe thead th {\n",
       "        text-align: right;\n",
       "    }\n",
       "</style>\n",
       "<table border=\"1\" class=\"dataframe\">\n",
       "  <thead>\n",
       "    <tr style=\"text-align: right;\">\n",
       "      <th></th>\n",
       "      <th>molecule</th>\n",
       "      <th>recipes</th>\n",
       "      <th>time_running</th>\n",
       "      <th>time_result_received</th>\n",
       "      <th>walltime</th>\n",
       "      <th>compute_time</th>\n",
       "      <th>smiles</th>\n",
       "      <th>oxidation_potential/mopac_pm7-acn-adiabatic</th>\n",
       "      <th>solvation_energy/mopac_pm7-acn</th>\n",
       "    </tr>\n",
       "  </thead>\n",
       "  <tbody>\n",
       "    <tr>\n",
       "      <th>0</th>\n",
       "      <td>IZNDNYLIQWXJIW-UHFFFAOYSA-N</td>\n",
       "      <td>(oxidation_potential/mopac_pm7-acn-adiabatic, ...</td>\n",
       "      <td>87.987414</td>\n",
       "      <td>1.701977e+09</td>\n",
       "      <td>0.000000</td>\n",
       "      <td>87.987414</td>\n",
       "      <td>COCC(OC)C(COC)(c1ccc(C(C)C)cc1)C(C)OC</td>\n",
       "      <td>NaN</td>\n",
       "      <td>NaN</td>\n",
       "    </tr>\n",
       "    <tr>\n",
       "      <th>1</th>\n",
       "      <td>IXCMFNWOAWAVRN-UHFFFAOYSA-N</td>\n",
       "      <td>(oxidation_potential/mopac_pm7-acn-adiabatic, ...</td>\n",
       "      <td>80.393023</td>\n",
       "      <td>1.701977e+09</td>\n",
       "      <td>1.004237</td>\n",
       "      <td>168.380438</td>\n",
       "      <td>CCCOC(C(C)OC)C(COC)(COC)c1ccc(COC)cc1</td>\n",
       "      <td>NaN</td>\n",
       "      <td>NaN</td>\n",
       "    </tr>\n",
       "    <tr>\n",
       "      <th>2</th>\n",
       "      <td>VVZVMAFKYZBGMN-UHFFFAOYSA-N</td>\n",
       "      <td>(oxidation_potential/mopac_pm7-acn-adiabatic, ...</td>\n",
       "      <td>134.945532</td>\n",
       "      <td>1.701977e+09</td>\n",
       "      <td>13.152279</td>\n",
       "      <td>303.325970</td>\n",
       "      <td>CCCOC(OCCC)C(Br)(OC(C)C)c1ccc(CCCOCC)cc1</td>\n",
       "      <td>NaN</td>\n",
       "      <td>NaN</td>\n",
       "    </tr>\n",
       "    <tr>\n",
       "      <th>3</th>\n",
       "      <td>YDNFHLJFKVWJOG-UHFFFAOYSA-N</td>\n",
       "      <td>(oxidation_potential/mopac_pm7-acn-adiabatic, ...</td>\n",
       "      <td>32.268866</td>\n",
       "      <td>1.701977e+09</td>\n",
       "      <td>22.170676</td>\n",
       "      <td>335.594836</td>\n",
       "      <td>CCCOC(CCC)C(Br)(OCCC)c1ccc(OC(C)C)cc1</td>\n",
       "      <td>6.468634</td>\n",
       "      <td>-8.85000</td>\n",
       "    </tr>\n",
       "    <tr>\n",
       "      <th>4</th>\n",
       "      <td>DYJPYPBAVREUCO-UHFFFAOYSA-N</td>\n",
       "      <td>(oxidation_potential/mopac_pm7-acn-adiabatic, ...</td>\n",
       "      <td>30.155898</td>\n",
       "      <td>1.701977e+09</td>\n",
       "      <td>50.316627</td>\n",
       "      <td>365.750734</td>\n",
       "      <td>CCOC(Br)(c1ccc(C)cc1)C(C=O)OC</td>\n",
       "      <td>6.953480</td>\n",
       "      <td>-9.47999</td>\n",
       "    </tr>\n",
       "  </tbody>\n",
       "</table>\n",
       "</div>"
      ],
      "text/plain": [
       "                      molecule  \\\n",
       "0  IZNDNYLIQWXJIW-UHFFFAOYSA-N   \n",
       "1  IXCMFNWOAWAVRN-UHFFFAOYSA-N   \n",
       "2  VVZVMAFKYZBGMN-UHFFFAOYSA-N   \n",
       "3  YDNFHLJFKVWJOG-UHFFFAOYSA-N   \n",
       "4  DYJPYPBAVREUCO-UHFFFAOYSA-N   \n",
       "\n",
       "                                             recipes  time_running  \\\n",
       "0  (oxidation_potential/mopac_pm7-acn-adiabatic, ...     87.987414   \n",
       "1  (oxidation_potential/mopac_pm7-acn-adiabatic, ...     80.393023   \n",
       "2  (oxidation_potential/mopac_pm7-acn-adiabatic, ...    134.945532   \n",
       "3  (oxidation_potential/mopac_pm7-acn-adiabatic, ...     32.268866   \n",
       "4  (oxidation_potential/mopac_pm7-acn-adiabatic, ...     30.155898   \n",
       "\n",
       "   time_result_received   walltime  compute_time  \\\n",
       "0          1.701977e+09   0.000000     87.987414   \n",
       "1          1.701977e+09   1.004237    168.380438   \n",
       "2          1.701977e+09  13.152279    303.325970   \n",
       "3          1.701977e+09  22.170676    335.594836   \n",
       "4          1.701977e+09  50.316627    365.750734   \n",
       "\n",
       "                                     smiles  \\\n",
       "0     COCC(OC)C(COC)(c1ccc(C(C)C)cc1)C(C)OC   \n",
       "1     CCCOC(C(C)OC)C(COC)(COC)c1ccc(COC)cc1   \n",
       "2  CCCOC(OCCC)C(Br)(OC(C)C)c1ccc(CCCOCC)cc1   \n",
       "3     CCCOC(CCC)C(Br)(OCCC)c1ccc(OC(C)C)cc1   \n",
       "4             CCOC(Br)(c1ccc(C)cc1)C(C=O)OC   \n",
       "\n",
       "   oxidation_potential/mopac_pm7-acn-adiabatic  solvation_energy/mopac_pm7-acn  \n",
       "0                                          NaN                             NaN  \n",
       "1                                          NaN                             NaN  \n",
       "2                                          NaN                             NaN  \n",
       "3                                     6.468634                        -8.85000  \n",
       "4                                     6.953480                        -9.47999  "
      ]
     },
     "execution_count": 4,
     "metadata": {},
     "output_type": "execute_result"
    }
   ],
   "source": [
    "singfi_tasks = load_tasks('run-single')\n",
    "singfi_tasks.head()"
   ]
  },
  {
   "cell_type": "code",
   "execution_count": 5,
   "id": "93a717f0-0c82-4881-ad30-f80e226b9fca",
   "metadata": {
    "tags": []
   },
   "outputs": [
    {
     "name": "stdout",
     "output_type": "stream",
     "text": [
      "Loaded 233 task records\n",
      "Consolidated to 66 computations\n"
     ]
    },
    {
     "data": {
      "text/html": [
       "<div>\n",
       "<style scoped>\n",
       "    .dataframe tbody tr th:only-of-type {\n",
       "        vertical-align: middle;\n",
       "    }\n",
       "\n",
       "    .dataframe tbody tr th {\n",
       "        vertical-align: top;\n",
       "    }\n",
       "\n",
       "    .dataframe thead th {\n",
       "        text-align: right;\n",
       "    }\n",
       "</style>\n",
       "<table border=\"1\" class=\"dataframe\">\n",
       "  <thead>\n",
       "    <tr style=\"text-align: right;\">\n",
       "      <th></th>\n",
       "      <th>molecule</th>\n",
       "      <th>recipes</th>\n",
       "      <th>time_running</th>\n",
       "      <th>time_result_received</th>\n",
       "      <th>walltime</th>\n",
       "      <th>compute_time</th>\n",
       "      <th>smiles</th>\n",
       "      <th>oxidation_potential/mopac_pm7-acn-adiabatic</th>\n",
       "      <th>solvation_energy/mopac_pm7-acn</th>\n",
       "    </tr>\n",
       "  </thead>\n",
       "  <tbody>\n",
       "    <tr>\n",
       "      <th>0</th>\n",
       "      <td>ZRDYPOIRGDRMNI-UHFFFAOYSA-N</td>\n",
       "      <td>(oxidation_potential/mopac_pm7-acn-adiabatic, ...</td>\n",
       "      <td>68.143295</td>\n",
       "      <td>1.701980e+09</td>\n",
       "      <td>0.000000</td>\n",
       "      <td>68.143295</td>\n",
       "      <td>CCCC(OCCOC)C(CC)(c1ccc(CCCOCC)cc1)C(C)OC</td>\n",
       "      <td>6.379811</td>\n",
       "      <td>-10.95075</td>\n",
       "    </tr>\n",
       "    <tr>\n",
       "      <th>1</th>\n",
       "      <td>IXMBRMFEJUMUHY-UHFFFAOYSA-N</td>\n",
       "      <td>(oxidation_potential/mopac_pm7-acn-adiabatic, ...</td>\n",
       "      <td>105.454581</td>\n",
       "      <td>1.701980e+09</td>\n",
       "      <td>3.307640</td>\n",
       "      <td>173.597876</td>\n",
       "      <td>COCC(c1ccc(Br)cc1)(C(Oc1ccccc1)OC(C)C)[N+](=O)...</td>\n",
       "      <td>6.577497</td>\n",
       "      <td>-9.37320</td>\n",
       "    </tr>\n",
       "    <tr>\n",
       "      <th>2</th>\n",
       "      <td>XFUWYMUPVITGRN-UHFFFAOYSA-N</td>\n",
       "      <td>(oxidation_potential/mopac_pm7-acn-adiabatic, ...</td>\n",
       "      <td>44.617212</td>\n",
       "      <td>1.701980e+09</td>\n",
       "      <td>8.963698</td>\n",
       "      <td>218.215088</td>\n",
       "      <td>CCCC(Oc1ccccc1)C(CCC)(OC(C)C)c1ccc(COC)cc1</td>\n",
       "      <td>6.349893</td>\n",
       "      <td>-7.62629</td>\n",
       "    </tr>\n",
       "    <tr>\n",
       "      <th>3</th>\n",
       "      <td>CPUIUFQZBAFREG-UHFFFAOYSA-N</td>\n",
       "      <td>(oxidation_potential/mopac_pm7-acn-adiabatic, ...</td>\n",
       "      <td>58.478781</td>\n",
       "      <td>1.701980e+09</td>\n",
       "      <td>20.832516</td>\n",
       "      <td>276.693869</td>\n",
       "      <td>COCCOC(COC)C(CCOC)(COC)c1ccc(C)cc1</td>\n",
       "      <td>6.610294</td>\n",
       "      <td>-12.39686</td>\n",
       "    </tr>\n",
       "    <tr>\n",
       "      <th>4</th>\n",
       "      <td>PQRSUOQUPPEJJW-UHFFFAOYSA-N</td>\n",
       "      <td>(oxidation_potential/mopac_pm7-acn-adiabatic, ...</td>\n",
       "      <td>32.743131</td>\n",
       "      <td>1.701980e+09</td>\n",
       "      <td>44.444276</td>\n",
       "      <td>309.437001</td>\n",
       "      <td>CCOC(OC)C(CC)(c1ccc(C(C)C)cc1)N(C)C</td>\n",
       "      <td>5.204699</td>\n",
       "      <td>-7.41305</td>\n",
       "    </tr>\n",
       "  </tbody>\n",
       "</table>\n",
       "</div>"
      ],
      "text/plain": [
       "                      molecule  \\\n",
       "0  ZRDYPOIRGDRMNI-UHFFFAOYSA-N   \n",
       "1  IXMBRMFEJUMUHY-UHFFFAOYSA-N   \n",
       "2  XFUWYMUPVITGRN-UHFFFAOYSA-N   \n",
       "3  CPUIUFQZBAFREG-UHFFFAOYSA-N   \n",
       "4  PQRSUOQUPPEJJW-UHFFFAOYSA-N   \n",
       "\n",
       "                                             recipes  time_running  \\\n",
       "0  (oxidation_potential/mopac_pm7-acn-adiabatic, ...     68.143295   \n",
       "1  (oxidation_potential/mopac_pm7-acn-adiabatic, ...    105.454581   \n",
       "2  (oxidation_potential/mopac_pm7-acn-adiabatic, ...     44.617212   \n",
       "3  (oxidation_potential/mopac_pm7-acn-adiabatic, ...     58.478781   \n",
       "4  (oxidation_potential/mopac_pm7-acn-adiabatic, ...     32.743131   \n",
       "\n",
       "   time_result_received   walltime  compute_time  \\\n",
       "0          1.701980e+09   0.000000     68.143295   \n",
       "1          1.701980e+09   3.307640    173.597876   \n",
       "2          1.701980e+09   8.963698    218.215088   \n",
       "3          1.701980e+09  20.832516    276.693869   \n",
       "4          1.701980e+09  44.444276    309.437001   \n",
       "\n",
       "                                              smiles  \\\n",
       "0           CCCC(OCCOC)C(CC)(c1ccc(CCCOCC)cc1)C(C)OC   \n",
       "1  COCC(c1ccc(Br)cc1)(C(Oc1ccccc1)OC(C)C)[N+](=O)...   \n",
       "2         CCCC(Oc1ccccc1)C(CCC)(OC(C)C)c1ccc(COC)cc1   \n",
       "3                 COCCOC(COC)C(CCOC)(COC)c1ccc(C)cc1   \n",
       "4                CCOC(OC)C(CC)(c1ccc(C(C)C)cc1)N(C)C   \n",
       "\n",
       "   oxidation_potential/mopac_pm7-acn-adiabatic  solvation_energy/mopac_pm7-acn  \n",
       "0                                     6.379811                       -10.95075  \n",
       "1                                     6.577497                        -9.37320  \n",
       "2                                     6.349893                        -7.62629  \n",
       "3                                     6.610294                       -12.39686  \n",
       "4                                     5.204699                        -7.41305  "
      ]
     },
     "execution_count": 5,
     "metadata": {},
     "output_type": "execute_result"
    }
   ],
   "source": [
    "random_tasks = load_tasks('run-single-random')\n",
    "random_tasks.head()"
   ]
  },
  {
   "cell_type": "markdown",
   "id": "0ecbcc07-1bf4-4e61-8efd-00262985e120",
   "metadata": {},
   "source": [
    "## Plot Task Mix by Time\n",
    "See how many tasks of each time we have run by each timestamp"
   ]
  },
  {
   "cell_type": "code",
   "execution_count": 6,
   "id": "a84a9a4b-7df3-4852-97d1-0bff96b4eb65",
   "metadata": {
    "tags": []
   },
   "outputs": [],
   "source": [
    "all_recipes = set(multfi_tasks['recipes'])"
   ]
  },
  {
   "cell_type": "code",
   "execution_count": 7,
   "id": "f754d9e5-20ae-4f33-bdf9-5dacb06ab8bb",
   "metadata": {
    "tags": []
   },
   "outputs": [
    {
     "data": {
      "text/plain": [
       "Text(0.5, 0, 'Walltime (hr)')"
      ]
     },
     "execution_count": 7,
     "metadata": {},
     "output_type": "execute_result"
    },
    {
     "data": {
      "image/png": "[encoded data removed]",
      "text/plain": [
       "<Figure size 350x200 with 1 Axes>"
      ]
     },
     "metadata": {},
     "output_type": "display_data"
    }
   ],
   "source": [
    "fig, ax = plt.subplots(figsize=(3.5, 2.))\n",
    "\n",
    "for recipe in all_recipes:\n",
    "    count = (multfi_tasks['recipes'] == recipe).cumsum()\n",
    "    ax.step(multfi_tasks['walltime'] / 3600, count, label=recipe[0][30:])\n",
    "    \n",
    "    ax.legend()\n",
    "\n",
    "ax.set_xlabel('Walltime (hr)')"
   ]
  },
  {
   "cell_type": "markdown",
   "id": "0b65bc0c-7692-4f3f-82f4-06c2b23c3347",
   "metadata": {},
   "source": [
    "We have a roughly 50% decrease at each step (vertical->acn-vertical->acn-adiabatic)"
   ]
  },
  {
   "cell_type": "markdown",
   "id": "a8a0c09a-861c-4bdd-beb3-57aa38177fef",
   "metadata": {},
   "source": [
    "## Plot IP by Walltime\n",
    "See how well we're doing for finding a maximum redox potential"
   ]
  },
  {
   "cell_type": "code",
   "execution_count": 8,
   "id": "a13a4402-9f80-46ed-a7fc-e34340961840",
   "metadata": {
    "tags": []
   },
   "outputs": [],
   "source": [
    "plot_list = list(zip(['red', 'blue', 'slategray'], ['^', 'v', 'x'], ['Single', 'Multi', 'Random'], [singfi_tasks, multfi_tasks, random_tasks]))"
   ]
  },
  {
   "cell_type": "code",
   "execution_count": 9,
   "id": "9e4afbfa-0944-4437-93eb-0cbb4874f61f",
   "metadata": {
    "tags": []
   },
   "outputs": [
    {
     "name": "stderr",
     "output_type": "stream",
     "text": [
      "/tmp/ipykernel_525765/1307738037.py:6: UserWarning: You passed a edgecolor/edgecolors ('none') for an unfilled marker ('x').  Matplotlib is ignoring the edgecolor in favor of the facecolor.  This behavior may change in the future.\n",
      "  ax.scatter(tasks['compute_time'] / 3600, tasks[result], s=10,\n"
     ]
    },
    {
     "data": {
      "image/png": "[encoded data removed]",
      "text/plain": [
       "<Figure size 350x200 with 1 Axes>"
      ]
     },
     "metadata": {},
     "output_type": "display_data"
    }
   ],
   "source": [
    "fig, ax = plt.subplots(figsize=(3.5, 2.))\n",
    "\n",
    "result = 'oxidation_potential/mopac_pm7-acn-adiabatic'\n",
    "for color, marker, label, tasks in plot_list:\n",
    "    tasks = tasks[~tasks[result].isnull()]\n",
    "    ax.scatter(tasks['compute_time'] / 3600, tasks[result], s=10, \n",
    "               color=color, alpha=0.8, edgecolor='none', marker=marker)\n",
    "    cummax = tasks[result].cummax()\n",
    "    ax.step(tasks['compute_time'] / 3600, cummax, '-', color=color, label=label)\n",
    "\n",
    "ax.set_xlabel('Compute Expended (hr)')\n",
    "ax.set_ylabel('IP (V)')\n",
    "\n",
    "ax.legend()\n",
    "\n",
    "fig.tight_layout()"
   ]
  },
  {
   "cell_type": "markdown",
   "id": "cf5ab197-c725-4990-9926-18a70e156def",
   "metadata": {},
   "source": [
    "Plot the distribution of IPs after 2 hours of compute"
   ]
  },
  {
   "cell_type": "code",
   "execution_count": 10,
   "id": "4b774e3f-3137-4588-b600-3ea523f852ee",
   "metadata": {
    "tags": []
   },
   "outputs": [
    {
     "name": "stdout",
     "output_type": "stream",
     "text": [
      "Single - Mean: 6.14 V - Count: 30\n",
      "Multi - Mean: 6.62 V - Count: 25\n",
      "Random - Mean: 6.28 V - Count: 35\n"
     ]
    },
    {
     "data": {
      "image/png": "[encoded data removed]",
      "text/plain": [
       "<Figure size 350x200 with 1 Axes>"
      ]
     },
     "metadata": {},
     "output_type": "display_data"
    }
   ],
   "source": [
    "fig, ax = plt.subplots(figsize=(3.5, 2.))\n",
    "\n",
    "bins = np.linspace(3, 8, 32)\n",
    "means = []\n",
    "\n",
    "result = 'oxidation_potential/mopac_pm7-acn-adiabatic'\n",
    "for color, marker, label, tasks in plot_list:\n",
    "    subset = tasks.query('compute_time <= 2700')\n",
    "    subset = subset[~subset[result].isnull()]\n",
    "    ax.hist(subset[result], bins=bins, color=color, label=label, alpha=0.5)\n",
    "    print(f'{label} - Mean: {subset[result].mean():.2f} V - Count: {len(subset)}')\n",
    "    \n",
    "    means.append((color, subset[result].mean()))\n",
    "\n",
    "ax.set_ylim(ax.get_ylim())\n",
    "for color, mean in means:\n",
    "    ax.plot([mean] * 2, ax.get_ylim(), '--', color=color)\n",
    "\n",
    "ax.set_xlabel('IP (V)')\n",
    "ax.set_ylabel('Frequency')\n",
    "\n",
    "ax.legend()\n",
    "\n",
    "fig.tight_layout()"
   ]
  },
  {
   "cell_type": "markdown",
   "id": "3c02e797-40c7-4226-91e7-f83dd650508f",
   "metadata": {},
   "source": [
    "The average IP of the molecules run at the highest level is higher for the multi-fidelity case, though there are are fewer overall"
   ]
  },
  {
   "cell_type": "markdown",
   "id": "d5983bd9-d8e6-4ce3-8db9-5d7e3bd6bbb4",
   "metadata": {},
   "source": [
    "## Plot Solvation and Redox\n",
    "See if the multi-objective optimization is working"
   ]
  },
  {
   "cell_type": "code",
   "execution_count": 11,
   "id": "8cf0c654-733b-43fb-9457-ca7b99bc4781",
   "metadata": {},
   "outputs": [
    {
     "data": {
      "image/png": "[encoded data removed]",
      "text/plain": [
       "<Figure size 350x200 with 1 Axes>"
      ]
     },
     "metadata": {},
     "output_type": "display_data"
    }
   ],
   "source": [
    "fig, ax = plt.subplots(figsize=(3.5, 2.))\n",
    "\n",
    "\n",
    "for color, marker, label, tasks in plot_list:\n",
    "    subset = tasks.query('compute_time <= 2700')\n",
    "    ax.scatter(tasks['oxidation_potential/mopac_pm7-acn-adiabatic'], tasks['solvation_energy/mopac_pm7-acn'], color=color, label=label, s=15, marker=marker)\n",
    "    \n",
    "ax.legend()\n",
    "\n",
    "ax.set_xlabel('IP (V)')\n",
    "ax.set_ylabel('$G_{solv}$ (kcal/mol)')\n",
    "\n",
    "fig.tight_layout()"
   ]
  },
  {
   "cell_type": "markdown",
   "id": "5a002371-1569-417f-8092-afbb46e3ea66",
   "metadata": {},
   "source": [
    "Multi-fidelity and single push towards the target region (bottom right) much better."
   ]
  },
  {
   "cell_type": "code",
   "execution_count": null,
   "id": "6c52d1d7-b6f0-4691-a0dd-5c8dc968cf99",
   "metadata": {},
   "outputs": [],
   "source": []
  }
 ],
 "metadata": {
  "kernelspec": {
   "display_name": "Python 3 (ipykernel)",
   "language": "python",
   "name": "python3"
  },
  "language_info": {
   "codemirror_mode": {
    "name": "ipython",
    "version": 3
   },
   "file_extension": ".py",
   "mimetype": "text/x-python",
   "name": "python",
   "nbconvert_exporter": "python",
   "pygments_lexer": "ipython3",
   "version": "3.10.13"
  }
 },
 "nbformat": 4,
 "nbformat_minor": 5
}
