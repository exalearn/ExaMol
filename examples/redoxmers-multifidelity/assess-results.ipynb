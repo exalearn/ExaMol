{
 "cells": [
  {
   "cell_type": "markdown",
   "id": "25741c16-74e4-4dc4-898f-d4e80bbaf129",
   "metadata": {},
   "source": [
    "## Evaluate the Outcomes of Simulatinos\n",
    "Make sure that the simulations ran as expected"
   ]
  },
  {
   "cell_type": "code",
   "execution_count": 1,
   "id": "37de0781-5159-4371-9a3f-4e9c7ad4de97",
   "metadata": {
    "tags": []
   },
   "outputs": [],
   "source": [
    "%matplotlib inline\n",
    "from matplotlib import pyplot as plt\n",
    "import pandas as pd\n",
    "import numpy as np\n",
    "import json"
   ]
  },
  {
   "cell_type": "markdown",
   "id": "4b344ba3-bd4b-49cc-a24c-bf208582da43",
   "metadata": {},
   "source": [
    "## Load Simulation Results\n",
    "Get the results from simulation tasks"
   ]
  },
  {
   "cell_type": "code",
   "execution_count": 2,
   "id": "6f13017f-f171-4659-9ae3-d611e9db0427",
   "metadata": {
    "tags": []
   },
   "outputs": [],
   "source": [
    "def load_tasks(run_path: str) -> pd.DataFrame:\n",
    "    task_info = []\n",
    "    with open(f'{run_path}/simulation-results.json') as fp:\n",
    "        for line in fp:\n",
    "            try:\n",
    "                record = json.loads(line)\n",
    "            except json.JSONDecodeError: \n",
    "                continue\n",
    "            for f in ['task_id', 'failure_info', 'worker_info', 'serialization_method',\n",
    "                     'additional_timing']:\n",
    "                record.pop(f)\n",
    "            record['recipes'] = [f'{x[\"name\"]}/{x[\"level\"]}' for x in record['task_info']['recipes']][0]\n",
    "            record['recipe'] = record['recipes']\n",
    "            record['property'], record['level'] = record['recipe'].split(\"/\")\n",
    "            record['molecule'] = record['task_info']['key']\n",
    "            task_info.append(record)\n",
    "    task_info = pd.DataFrame(task_info)\n",
    "    print(f'Loaded {len(task_info)} task records')\n",
    "    \n",
    "    # Group simulation tasks by recipe and molecule\n",
    "    grouped_tasks = task_info.groupby(['molecule', 'recipe', 'property', 'level']).agg({'time_running': 'sum', 'time_result_received': 'min'}).sort_values('time_result_received')\n",
    "    grouped_tasks['walltime'] = grouped_tasks['time_result_received'] - grouped_tasks['time_result_received'].min()\n",
    "    grouped_tasks['compute_time'] = grouped_tasks['time_running'].cumsum()\n",
    "    grouped_tasks.reset_index(inplace=True)\n",
    "    print(f'Consolidated to {len(grouped_tasks)} computations')\n",
    "    \n",
    "    # Store the results\n",
    "    db = {}\n",
    "    with open(f'{run_path}/database.json') as fp:\n",
    "        for line in fp:\n",
    "            record = json.loads(line)\n",
    "            db[record['key']] = record\n",
    "    grouped_tasks['result'] = grouped_tasks.apply(lambda x: db.get(x['molecule'], {}).get('properties', {}).get(x['property'], {}).get(x['level']), axis=1)\n",
    "    grouped_tasks['smiles'] = grouped_tasks.apply(lambda x: db.get(x['molecule'], {}).get('identifier', {}).get('smiles'), axis=1)\n",
    "    return grouped_tasks"
   ]
  },
  {
   "cell_type": "code",
   "execution_count": 3,
   "id": "8dc12130-1c34-449f-9765-58479e12bc21",
   "metadata": {
    "tags": []
   },
   "outputs": [
    {
     "name": "stdout",
     "output_type": "stream",
     "text": [
      "Loaded 1484 task records\n",
      "Consolidated to 763 computations\n"
     ]
    }
   ],
   "source": [
    "multfi_tasks = load_tasks('run')"
   ]
  },
  {
   "cell_type": "code",
   "execution_count": 4,
   "id": "0507b028-b8a3-4bec-9b4b-df8a8f6556a5",
   "metadata": {
    "tags": []
   },
   "outputs": [
    {
     "name": "stdout",
     "output_type": "stream",
     "text": [
      "Loaded 747 task records\n",
      "Consolidated to 200 computations\n"
     ]
    },
    {
     "data": {
      "text/html": [
       "<div>\n",
       "<style scoped>\n",
       "    .dataframe tbody tr th:only-of-type {\n",
       "        vertical-align: middle;\n",
       "    }\n",
       "\n",
       "    .dataframe tbody tr th {\n",
       "        vertical-align: top;\n",
       "    }\n",
       "\n",
       "    .dataframe thead th {\n",
       "        text-align: right;\n",
       "    }\n",
       "</style>\n",
       "<table border=\"1\" class=\"dataframe\">\n",
       "  <thead>\n",
       "    <tr style=\"text-align: right;\">\n",
       "      <th></th>\n",
       "      <th>molecule</th>\n",
       "      <th>recipe</th>\n",
       "      <th>property</th>\n",
       "      <th>level</th>\n",
       "      <th>time_running</th>\n",
       "      <th>time_result_received</th>\n",
       "      <th>walltime</th>\n",
       "      <th>compute_time</th>\n",
       "      <th>result</th>\n",
       "      <th>smiles</th>\n",
       "    </tr>\n",
       "  </thead>\n",
       "  <tbody>\n",
       "    <tr>\n",
       "      <th>0</th>\n",
       "      <td>QFBFWZJEZIPSJL-UHFFFAOYSA-N</td>\n",
       "      <td>oxidation_potential/mopac_pm7-acn-adiabatic</td>\n",
       "      <td>oxidation_potential</td>\n",
       "      <td>mopac_pm7-acn-adiabatic</td>\n",
       "      <td>60.692114</td>\n",
       "      <td>1.700582e+09</td>\n",
       "      <td>0.000000</td>\n",
       "      <td>60.692114</td>\n",
       "      <td>6.803651</td>\n",
       "      <td>CCOC(C(C)OC)C(Br)(OC)c1ccc(CCOC)cc1</td>\n",
       "    </tr>\n",
       "    <tr>\n",
       "      <th>1</th>\n",
       "      <td>SQTARUJWLRWTLF-UHFFFAOYSA-N</td>\n",
       "      <td>oxidation_potential/mopac_pm7-acn-adiabatic</td>\n",
       "      <td>oxidation_potential</td>\n",
       "      <td>mopac_pm7-acn-adiabatic</td>\n",
       "      <td>107.319920</td>\n",
       "      <td>1.700582e+09</td>\n",
       "      <td>17.349539</td>\n",
       "      <td>168.012034</td>\n",
       "      <td>NaN</td>\n",
       "      <td>COCCc1ccc(C(CCOC)(OC(C)C)C(COC)OCOC)cc1</td>\n",
       "    </tr>\n",
       "    <tr>\n",
       "      <th>2</th>\n",
       "      <td>QPOBPKSMCMYIIZ-UHFFFAOYSA-N</td>\n",
       "      <td>oxidation_potential/mopac_pm7-acn-adiabatic</td>\n",
       "      <td>oxidation_potential</td>\n",
       "      <td>mopac_pm7-acn-adiabatic</td>\n",
       "      <td>69.718892</td>\n",
       "      <td>1.700582e+09</td>\n",
       "      <td>26.168842</td>\n",
       "      <td>237.730927</td>\n",
       "      <td>NaN</td>\n",
       "      <td>CCOC(Oc1ccccc1)C(COC)(OC)c1ccc(COC)cc1</td>\n",
       "    </tr>\n",
       "    <tr>\n",
       "      <th>3</th>\n",
       "      <td>VHOYIGKPMQZVGX-UHFFFAOYSA-N</td>\n",
       "      <td>oxidation_potential/mopac_pm7-acn-adiabatic</td>\n",
       "      <td>oxidation_potential</td>\n",
       "      <td>mopac_pm7-acn-adiabatic</td>\n",
       "      <td>48.576073</td>\n",
       "      <td>1.700582e+09</td>\n",
       "      <td>34.116643</td>\n",
       "      <td>286.306999</td>\n",
       "      <td>5.634255</td>\n",
       "      <td>CCOC(Oc1ccccc1)C(Br)(c1ccc(C(C)C)cc1)N(C)C</td>\n",
       "    </tr>\n",
       "    <tr>\n",
       "      <th>4</th>\n",
       "      <td>PQCDVSSBIJWVQW-UHFFFAOYSA-N</td>\n",
       "      <td>oxidation_potential/mopac_pm7-acn-adiabatic</td>\n",
       "      <td>oxidation_potential</td>\n",
       "      <td>mopac_pm7-acn-adiabatic</td>\n",
       "      <td>24.458341</td>\n",
       "      <td>1.700582e+09</td>\n",
       "      <td>65.090125</td>\n",
       "      <td>310.765340</td>\n",
       "      <td>6.369714</td>\n",
       "      <td>CCOC(OC)(c1ccc(CCOC)cc1)C(CC)Oc1ccccc1</td>\n",
       "    </tr>\n",
       "  </tbody>\n",
       "</table>\n",
       "</div>"
      ],
      "text/plain": [
       "                      molecule                                       recipe  \\\n",
       "0  QFBFWZJEZIPSJL-UHFFFAOYSA-N  oxidation_potential/mopac_pm7-acn-adiabatic   \n",
       "1  SQTARUJWLRWTLF-UHFFFAOYSA-N  oxidation_potential/mopac_pm7-acn-adiabatic   \n",
       "2  QPOBPKSMCMYIIZ-UHFFFAOYSA-N  oxidation_potential/mopac_pm7-acn-adiabatic   \n",
       "3  VHOYIGKPMQZVGX-UHFFFAOYSA-N  oxidation_potential/mopac_pm7-acn-adiabatic   \n",
       "4  PQCDVSSBIJWVQW-UHFFFAOYSA-N  oxidation_potential/mopac_pm7-acn-adiabatic   \n",
       "\n",
       "              property                    level  time_running  \\\n",
       "0  oxidation_potential  mopac_pm7-acn-adiabatic     60.692114   \n",
       "1  oxidation_potential  mopac_pm7-acn-adiabatic    107.319920   \n",
       "2  oxidation_potential  mopac_pm7-acn-adiabatic     69.718892   \n",
       "3  oxidation_potential  mopac_pm7-acn-adiabatic     48.576073   \n",
       "4  oxidation_potential  mopac_pm7-acn-adiabatic     24.458341   \n",
       "\n",
       "   time_result_received   walltime  compute_time    result  \\\n",
       "0          1.700582e+09   0.000000     60.692114  6.803651   \n",
       "1          1.700582e+09  17.349539    168.012034       NaN   \n",
       "2          1.700582e+09  26.168842    237.730927       NaN   \n",
       "3          1.700582e+09  34.116643    286.306999  5.634255   \n",
       "4          1.700582e+09  65.090125    310.765340  6.369714   \n",
       "\n",
       "                                       smiles  \n",
       "0         CCOC(C(C)OC)C(Br)(OC)c1ccc(CCOC)cc1  \n",
       "1     COCCc1ccc(C(CCOC)(OC(C)C)C(COC)OCOC)cc1  \n",
       "2      CCOC(Oc1ccccc1)C(COC)(OC)c1ccc(COC)cc1  \n",
       "3  CCOC(Oc1ccccc1)C(Br)(c1ccc(C(C)C)cc1)N(C)C  \n",
       "4      CCOC(OC)(c1ccc(CCOC)cc1)C(CC)Oc1ccccc1  "
      ]
     },
     "execution_count": 4,
     "metadata": {},
     "output_type": "execute_result"
    }
   ],
   "source": [
    "singfi_tasks = load_tasks('run-single')\n",
    "singfi_tasks.head()"
   ]
  },
  {
   "cell_type": "markdown",
   "id": "0ecbcc07-1bf4-4e61-8efd-00262985e120",
   "metadata": {},
   "source": [
    "## Plot Task Mix by Time\n",
    "See how many tasks of each time we have run by each timestamp"
   ]
  },
  {
   "cell_type": "code",
   "execution_count": 5,
   "id": "a84a9a4b-7df3-4852-97d1-0bff96b4eb65",
   "metadata": {
    "tags": []
   },
   "outputs": [],
   "source": [
    "all_recipes = set(multfi_tasks['recipe'])"
   ]
  },
  {
   "cell_type": "code",
   "execution_count": 6,
   "id": "f754d9e5-20ae-4f33-bdf9-5dacb06ab8bb",
   "metadata": {
    "tags": []
   },
   "outputs": [
    {
     "data": {
      "text/plain": [
       "Text(0.5, 0, 'Walltime (hr)')"
      ]
     },
     "execution_count": 6,
     "metadata": {},
     "output_type": "execute_result"
    },
    {
     "data": {
      "image/png": "[encoded data removed]",
      "text/plain": [
       "<Figure size 350x200 with 1 Axes>"
      ]
     },
     "metadata": {},
     "output_type": "display_data"
    }
   ],
   "source": [
    "fig, ax = plt.subplots(figsize=(3.5, 2.))\n",
    "\n",
    "for recipe in all_recipes:\n",
    "    count = (multfi_tasks['recipe'] == recipe).cumsum()\n",
    "    ax.step(multfi_tasks['walltime'] / 3600, count, label=recipe[30:])\n",
    "    \n",
    "    ax.legend()\n",
    "\n",
    "ax.set_xlabel('Walltime (hr)')"
   ]
  },
  {
   "cell_type": "markdown",
   "id": "a8a0c09a-861c-4bdd-beb3-57aa38177fef",
   "metadata": {},
   "source": [
    "## Plot IP by Walltime\n",
    "See how well we're doing for each recipe"
   ]
  },
  {
   "cell_type": "code",
   "execution_count": 7,
   "id": "9e4afbfa-0944-4437-93eb-0cbb4874f61f",
   "metadata": {
    "tags": []
   },
   "outputs": [
    {
     "data": {
      "image/png": "[encoded data removed]",
      "text/plain": [
       "<Figure size 350x200 with 1 Axes>"
      ]
     },
     "metadata": {},
     "output_type": "display_data"
    }
   ],
   "source": [
    "fig, ax = plt.subplots(figsize=(3.5, 2.))\n",
    "\n",
    "for color, label, tasks in zip(['red', 'blue'], ['Single', 'Multi'], [singfi_tasks, multfi_tasks]):\n",
    "    subset = tasks.query('level==\"mopac_pm7-acn-adiabatic\"')\n",
    "    subset = subset[~subset['result'].isnull()]\n",
    "    ax.scatter(subset['compute_time'] / 3600, subset['result'], s=10, \n",
    "               color=color, alpha=0.8, edgecolor='none')\n",
    "    cummax = subset['result'].cummax()\n",
    "    ax.step(subset['compute_time'] / 3600, cummax, '-', color=color, label=label)\n",
    "\n",
    "ax.set_xlabel('Compute Expended (hr)')\n",
    "ax.set_ylabel('IP (V)')\n",
    "\n",
    "ax.legend()\n",
    "\n",
    "fig.tight_layout()"
   ]
  },
  {
   "cell_type": "markdown",
   "id": "cf5ab197-c725-4990-9926-18a70e156def",
   "metadata": {},
   "source": [
    "Plot the distribution of IPs after 2 hours of compute"
   ]
  },
  {
   "cell_type": "code",
   "execution_count": 9,
   "id": "4b774e3f-3137-4588-b600-3ea523f852ee",
   "metadata": {
    "tags": []
   },
   "outputs": [
    {
     "name": "stdout",
     "output_type": "stream",
     "text": [
      "Single - Mean: 6.26 V - Count: 118\n",
      "Multi - Mean: 6.49 V - Count: 71\n"
     ]
    },
    {
     "data": {
      "image/png": "[encoded data removed]",
      "text/plain": [
       "<Figure size 350x200 with 1 Axes>"
      ]
     },
     "metadata": {},
     "output_type": "display_data"
    }
   ],
   "source": [
    "fig, ax = plt.subplots(figsize=(3.5, 2.))\n",
    "\n",
    "bins = np.linspace(3, 8, 32)\n",
    "means = []\n",
    "for color, label, tasks in zip(['red', 'blue'], ['Single', 'Multi'], [singfi_tasks, multfi_tasks]):\n",
    "    subset = tasks.query('level==\"mopac_pm7-acn-adiabatic\" and compute_time <= 7200')\n",
    "    subset = subset[~subset['result'].isnull()]\n",
    "    ax.hist(subset['result'], bins=bins, color=color, label=label, alpha=0.5)\n",
    "    print(f'{label} - Mean: {subset[\"result\"].mean():.2f} V - Count: {len(subset)}')\n",
    "    \n",
    "    means.append((color, subset['result'].mean()))\n",
    "\n",
    "ax.set_ylim(ax.get_ylim())\n",
    "for color, mean in means:\n",
    "    ax.plot([mean] * 2, ax.get_ylim(), '--', color=color)\n",
    "\n",
    "ax.set_xlabel('IP (V)')\n",
    "ax.set_ylabel('Frequency')\n",
    "\n",
    "ax.legend()\n",
    "\n",
    "fig.tight_layout()"
   ]
  },
  {
   "cell_type": "markdown",
   "id": "3c02e797-40c7-4226-91e7-f83dd650508f",
   "metadata": {},
   "source": [
    "The average IP of the molecules run at the highest level is higher for the multi-fidelity case, though there are are fewer overall"
   ]
  },
  {
   "cell_type": "code",
   "execution_count": null,
   "id": "8cf0c654-733b-43fb-9457-ca7b99bc4781",
   "metadata": {},
   "outputs": [],
   "source": []
  }
 ],
 "metadata": {
  "kernelspec": {
   "display_name": "Python 3 (ipykernel)",
   "language": "python",
   "name": "python3"
  },
  "language_info": {
   "codemirror_mode": {
    "name": "ipython",
    "version": 3
   },
   "file_extension": ".py",
   "mimetype": "text/x-python",
   "name": "python",
   "nbconvert_exporter": "python",
   "pygments_lexer": "ipython3",
   "version": "3.10.13"
  }
 },
 "nbformat": 4,
 "nbformat_minor": 5
}
